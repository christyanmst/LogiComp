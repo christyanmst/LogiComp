{
  "nbformat": 4,
  "nbformat_minor": 0,
  "metadata": {
    "colab": {
      "name": "Projeto2Logica.ipynb",
      "provenance": [],
      "collapsed_sections": []
    },
    "kernelspec": {
      "name": "python3",
      "display_name": "Python 3"
    },
    "language_info": {
      "name": "python"
    }
  },
  "cells": [
    {
      "cell_type": "code",
      "source": [
        "!pip install python-sat[pblib,aiger]"
      ],
      "metadata": {
        "colab": {
          "base_uri": "https://localhost:8080/"
        },
        "id": "WTuSXkcSdMaB",
        "outputId": "f5cd4e20-1226-42c8-d1d1-be7e41ee483b"
      },
      "execution_count": null,
      "outputs": [
        {
          "output_type": "stream",
          "name": "stdout",
          "text": [
            "Looking in indexes: https://pypi.org/simple, https://us-python.pkg.dev/colab-wheels/public/simple/\n",
            "Collecting python-sat[aiger,pblib]\n",
            "  Downloading python_sat-0.1.7.dev19-cp37-cp37m-manylinux2010_x86_64.whl (1.8 MB)\n",
            "\u001b[K     |████████████████████████████████| 1.8 MB 5.1 MB/s \n",
            "\u001b[?25hRequirement already satisfied: six in /usr/local/lib/python3.7/dist-packages (from python-sat[aiger,pblib]) (1.15.0)\n",
            "Collecting py-aiger-cnf>=2.0.0\n",
            "  Downloading py_aiger_cnf-5.0.4-py3-none-any.whl (5.2 kB)\n",
            "Collecting pypblib>=0.0.3\n",
            "  Downloading pypblib-0.0.4-cp37-cp37m-manylinux2014_x86_64.whl (3.4 MB)\n",
            "\u001b[K     |████████████████████████████████| 3.4 MB 41.4 MB/s \n",
            "\u001b[?25hCollecting bidict<0.22.0,>=0.21.0\n",
            "  Downloading bidict-0.21.4-py3-none-any.whl (36 kB)\n",
            "Collecting funcy<2.0,>=1.12\n",
            "  Downloading funcy-1.17-py2.py3-none-any.whl (33 kB)\n",
            "Collecting py-aiger<7.0.0,>=6.0.0\n",
            "  Downloading py_aiger-6.1.23-py3-none-any.whl (18 kB)\n",
            "Collecting parsimonious<0.9.0,>=0.8.1\n",
            "  Downloading parsimonious-0.8.1.tar.gz (45 kB)\n",
            "\u001b[K     |████████████████████████████████| 45 kB 2.9 MB/s \n",
            "\u001b[?25hRequirement already satisfied: sortedcontainers<3.0.0,>=2.3.0 in /usr/local/lib/python3.7/dist-packages (from py-aiger<7.0.0,>=6.0.0->py-aiger-cnf>=2.0.0->python-sat[aiger,pblib]) (2.4.0)\n",
            "Collecting toposort<2.0,>=1.5\n",
            "  Downloading toposort-1.7-py2.py3-none-any.whl (9.0 kB)\n",
            "Requirement already satisfied: pyrsistent<0.19.0,>=0.18.0 in /usr/local/lib/python3.7/dist-packages (from py-aiger<7.0.0,>=6.0.0->py-aiger-cnf>=2.0.0->python-sat[aiger,pblib]) (0.18.1)\n",
            "Requirement already satisfied: attrs<22,>=21 in /usr/local/lib/python3.7/dist-packages (from py-aiger<7.0.0,>=6.0.0->py-aiger-cnf>=2.0.0->python-sat[aiger,pblib]) (21.4.0)\n",
            "Building wheels for collected packages: parsimonious\n",
            "  Building wheel for parsimonious (setup.py) ... \u001b[?25l\u001b[?25hdone\n",
            "  Created wheel for parsimonious: filename=parsimonious-0.8.1-py3-none-any.whl size=42723 sha256=be9ab701e58413a49dc3f357d8150074e901553ae45659efcc6e610e728ec427\n",
            "  Stored in directory: /root/.cache/pip/wheels/88/5d/ba/f27d8af07306b65ee44f9d3f9cadea1db749a421a6db8a99bf\n",
            "Successfully built parsimonious\n",
            "Installing collected packages: toposort, parsimonious, funcy, bidict, py-aiger, python-sat, pypblib, py-aiger-cnf\n",
            "Successfully installed bidict-0.21.4 funcy-1.17 parsimonious-0.8.1 py-aiger-6.1.23 py-aiger-cnf-5.0.4 pypblib-0.0.4 python-sat-0.1.7.dev19 toposort-1.7\n"
          ]
        }
      ]
    },
    {
      "cell_type": "code",
      "source": [
        "from pysat.formula import IDPool\n",
        "Atom = IDPool()\n",
        "from pysat.formula import CNF\n",
        "from pysat.solvers import Cadical\n"
      ],
      "metadata": {
        "id": "BsfuUopnrBuI"
      },
      "execution_count": null,
      "outputs": []
    },
    {
      "cell_type": "code",
      "source": [
        "from google.colab import files\n",
        "uploaded = files.upload()"
      ],
      "metadata": {
        "colab": {
          "resources": {
            "http://localhost:8080/nbextensions/google.colab/files.js": {
              "data": "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",
              "ok": true,
              "headers": [
                [
                  "content-type",
                  "application/javascript"
                ]
              ],
              "status": 200,
              "status_text": ""
            }
          },
          "base_uri": "https://localhost:8080/",
          "height": 73
        },
        "id": "KLnUhnmVguRX",
        "outputId": "3b1180d4-aa6a-4065-d1cd-7b9b3526042a"
      },
      "execution_count": null,
      "outputs": [
        {
          "output_type": "display_data",
          "data": {
            "text/plain": [
              "<IPython.core.display.HTML object>"
            ],
            "text/html": [
              "\n",
              "     <input type=\"file\" id=\"files-0c9c40b1-5df4-4c45-b3d0-5eebe72a02c4\" name=\"files[]\" multiple disabled\n",
              "        style=\"border:none\" />\n",
              "     <output id=\"result-0c9c40b1-5df4-4c45-b3d0-5eebe72a02c4\">\n",
              "      Upload widget is only available when the cell has been executed in the\n",
              "      current browser session. Please rerun this cell to enable.\n",
              "      </output>\n",
              "      <script src=\"/nbextensions/google.colab/files.js\"></script> "
            ]
          },
          "metadata": {}
        },
        {
          "output_type": "stream",
          "name": "stdout",
          "text": [
            "Saving column_bin_3a_5p.csv to column_bin_3a_5p.csv\n"
          ]
        }
      ]
    },
    {
      "cell_type": "code",
      "source": [
        "import pandas as pd\n",
        "import io\n",
        " \n",
        "arquivo = pd.read_csv(io.BytesIO(uploaded['column_bin_3a_5p.csv']))\n",
        "arquivo.index += 1\n",
        "arquivo"
      ],
      "metadata": {
        "colab": {
          "base_uri": "https://localhost:8080/",
          "height": 206
        },
        "id": "fIype_BUg2XM",
        "outputId": "18949897-1ea0-4786-f70c-aabf21e8c6c9"
      },
      "execution_count": 235,
      "outputs": [
        {
          "output_type": "execute_result",
          "data": {
            "text/plain": [
              "   PI <= 42.09  LA <= 39.63  GS <= 37.89  P\n",
              "1            0            0            0  1\n",
              "2            0            1            0  1\n",
              "3            1            1            1  0\n",
              "4            0            0            1  0\n",
              "5            1            0            0  0"
            ],
            "text/html": [
              "\n",
              "  <div id=\"df-fa60210a-b040-4eeb-a749-e3c29540af72\">\n",
              "    <div class=\"colab-df-container\">\n",
              "      <div>\n",
              "<style scoped>\n",
              "    .dataframe tbody tr th:only-of-type {\n",
              "        vertical-align: middle;\n",
              "    }\n",
              "\n",
              "    .dataframe tbody tr th {\n",
              "        vertical-align: top;\n",
              "    }\n",
              "\n",
              "    .dataframe thead th {\n",
              "        text-align: right;\n",
              "    }\n",
              "</style>\n",
              "<table border=\"1\" class=\"dataframe\">\n",
              "  <thead>\n",
              "    <tr style=\"text-align: right;\">\n",
              "      <th></th>\n",
              "      <th>PI &lt;= 42.09</th>\n",
              "      <th>LA &lt;= 39.63</th>\n",
              "      <th>GS &lt;= 37.89</th>\n",
              "      <th>P</th>\n",
              "    </tr>\n",
              "  </thead>\n",
              "  <tbody>\n",
              "    <tr>\n",
              "      <th>1</th>\n",
              "      <td>0</td>\n",
              "      <td>0</td>\n",
              "      <td>0</td>\n",
              "      <td>1</td>\n",
              "    </tr>\n",
              "    <tr>\n",
              "      <th>2</th>\n",
              "      <td>0</td>\n",
              "      <td>1</td>\n",
              "      <td>0</td>\n",
              "      <td>1</td>\n",
              "    </tr>\n",
              "    <tr>\n",
              "      <th>3</th>\n",
              "      <td>1</td>\n",
              "      <td>1</td>\n",
              "      <td>1</td>\n",
              "      <td>0</td>\n",
              "    </tr>\n",
              "    <tr>\n",
              "      <th>4</th>\n",
              "      <td>0</td>\n",
              "      <td>0</td>\n",
              "      <td>1</td>\n",
              "      <td>0</td>\n",
              "    </tr>\n",
              "    <tr>\n",
              "      <th>5</th>\n",
              "      <td>1</td>\n",
              "      <td>0</td>\n",
              "      <td>0</td>\n",
              "      <td>0</td>\n",
              "    </tr>\n",
              "  </tbody>\n",
              "</table>\n",
              "</div>\n",
              "      <button class=\"colab-df-convert\" onclick=\"convertToInteractive('df-fa60210a-b040-4eeb-a749-e3c29540af72')\"\n",
              "              title=\"Convert this dataframe to an interactive table.\"\n",
              "              style=\"display:none;\">\n",
              "        \n",
              "  <svg xmlns=\"http://www.w3.org/2000/svg\" height=\"24px\"viewBox=\"0 0 24 24\"\n",
              "       width=\"24px\">\n",
              "    <path d=\"M0 0h24v24H0V0z\" fill=\"none\"/>\n",
              "    <path d=\"M18.56 5.44l.94 2.06.94-2.06 2.06-.94-2.06-.94-.94-2.06-.94 2.06-2.06.94zm-11 1L8.5 8.5l.94-2.06 2.06-.94-2.06-.94L8.5 2.5l-.94 2.06-2.06.94zm10 10l.94 2.06.94-2.06 2.06-.94-2.06-.94-.94-2.06-.94 2.06-2.06.94z\"/><path d=\"M17.41 7.96l-1.37-1.37c-.4-.4-.92-.59-1.43-.59-.52 0-1.04.2-1.43.59L10.3 9.45l-7.72 7.72c-.78.78-.78 2.05 0 2.83L4 21.41c.39.39.9.59 1.41.59.51 0 1.02-.2 1.41-.59l7.78-7.78 2.81-2.81c.8-.78.8-2.07 0-2.86zM5.41 20L4 18.59l7.72-7.72 1.47 1.35L5.41 20z\"/>\n",
              "  </svg>\n",
              "      </button>\n",
              "      \n",
              "  <style>\n",
              "    .colab-df-container {\n",
              "      display:flex;\n",
              "      flex-wrap:wrap;\n",
              "      gap: 12px;\n",
              "    }\n",
              "\n",
              "    .colab-df-convert {\n",
              "      background-color: #E8F0FE;\n",
              "      border: none;\n",
              "      border-radius: 50%;\n",
              "      cursor: pointer;\n",
              "      display: none;\n",
              "      fill: #1967D2;\n",
              "      height: 32px;\n",
              "      padding: 0 0 0 0;\n",
              "      width: 32px;\n",
              "    }\n",
              "\n",
              "    .colab-df-convert:hover {\n",
              "      background-color: #E2EBFA;\n",
              "      box-shadow: 0px 1px 2px rgba(60, 64, 67, 0.3), 0px 1px 3px 1px rgba(60, 64, 67, 0.15);\n",
              "      fill: #174EA6;\n",
              "    }\n",
              "\n",
              "    [theme=dark] .colab-df-convert {\n",
              "      background-color: #3B4455;\n",
              "      fill: #D2E3FC;\n",
              "    }\n",
              "\n",
              "    [theme=dark] .colab-df-convert:hover {\n",
              "      background-color: #434B5C;\n",
              "      box-shadow: 0px 1px 3px 1px rgba(0, 0, 0, 0.15);\n",
              "      filter: drop-shadow(0px 1px 2px rgba(0, 0, 0, 0.3));\n",
              "      fill: #FFFFFF;\n",
              "    }\n",
              "  </style>\n",
              "\n",
              "      <script>\n",
              "        const buttonEl =\n",
              "          document.querySelector('#df-fa60210a-b040-4eeb-a749-e3c29540af72 button.colab-df-convert');\n",
              "        buttonEl.style.display =\n",
              "          google.colab.kernel.accessAllowed ? 'block' : 'none';\n",
              "\n",
              "        async function convertToInteractive(key) {\n",
              "          const element = document.querySelector('#df-fa60210a-b040-4eeb-a749-e3c29540af72');\n",
              "          const dataTable =\n",
              "            await google.colab.kernel.invokeFunction('convertToInteractive',\n",
              "                                                     [key], {});\n",
              "          if (!dataTable) return;\n",
              "\n",
              "          const docLinkHtml = 'Like what you see? Visit the ' +\n",
              "            '<a target=\"_blank\" href=https://colab.research.google.com/notebooks/data_table.ipynb>data table notebook</a>'\n",
              "            + ' to learn more about interactive tables.';\n",
              "          element.innerHTML = '';\n",
              "          dataTable['output_type'] = 'display_data';\n",
              "          await google.colab.output.renderOutput(dataTable, element);\n",
              "          const docLink = document.createElement('div');\n",
              "          docLink.innerHTML = docLinkHtml;\n",
              "          element.appendChild(docLink);\n",
              "        }\n",
              "      </script>\n",
              "    </div>\n",
              "  </div>\n",
              "  "
            ]
          },
          "metadata": {},
          "execution_count": 235
        }
      ]
    },
    {
      "cell_type": "code",
      "source": [
        "#Quantidade de pacientes do DataFrame\n",
        "qtdPacientes=arquivo.shape[0]\n",
        "print(\"Quantidade de Pacientes: \",qtdPacientes)\n",
        "\n",
        "#Atributos do DataFrame\n",
        "lista_atributos=arquivo.columns.tolist()\n",
        "print(\"Atributos: \",lista_atributos)\n",
        "\n",
        "#Quantidade de atributos do DataFrame\n",
        "print(\"Quantidade de Atributos: \",arquivo.shape[1])\n",
        "\n",
        "#Valoração\n",
        "valoracao= [tuple(x) for x in arquivo.values]\n",
        "print(valoracao)\n",
        "\n",
        "#Quantidade de Regras\n",
        "m=4\n",
        "\n"
      ],
      "metadata": {
        "colab": {
          "base_uri": "https://localhost:8080/"
        },
        "id": "oeeWbm8YidRE",
        "outputId": "f0b25560-bfe6-4773-ce21-f8bf884c2108"
      },
      "execution_count": 236,
      "outputs": [
        {
          "output_type": "stream",
          "name": "stdout",
          "text": [
            "Quantidade de Pacientes:  5\n",
            "Atributos:  ['PI <= 42.09', 'LA <= 39.63', 'GS <= 37.89', 'P']\n",
            "Quantidade de Atributos:  4\n",
            "[(0, 0, 0, 1), (0, 1, 0, 1), (1, 1, 1, 0), (0, 0, 1, 0), (1, 0, 0, 0)]\n"
          ]
        }
      ]
    },
    {
      "cell_type": "markdown",
      "source": [
        "## **Restrição 1** "
      ],
      "metadata": {
        "id": "vTZxFgW0jtEv"
      }
    },
    {
      "cell_type": "code",
      "source": [
        "def restricao1(m, lista_atributos):\n",
        "\n",
        "    lista = []\n",
        "    lista2 = []\n",
        "    formula = []\n",
        "    for regra in range(m):\n",
        "        for atributo in lista_atributos:\n",
        "            if atributo != 'P':\n",
        "                lista=[]\n",
        "                lista.append(Atom.id(str(atributo) + '-' + str(regra + 1) + '-' + 'p'))\n",
        "                lista.append(-Atom.id(str(atributo) + '-' + str(regra + 1) + '-' + 'n'))\n",
        "                lista.append(-Atom.id(str(atributo) + '-' + str(regra + 1) + '-' + 's'))\n",
        "                lista2.append(lista)\n",
        "\n",
        "                lista=[]\n",
        "                lista.append(-Atom.id(str(atributo) + '-' + str(regra + 1) + '-' + 'p'))\n",
        "                lista.append(Atom.id(str(atributo) + '-' + str(regra + 1) + '-' + 'n'))\n",
        "                lista.append(-Atom.id(str(atributo) + '-' + str(regra + 1) + '-' + 's'))\n",
        "                lista2.append(lista)\n",
        "\n",
        "                lista=[]\n",
        "                lista.append(-Atom.id(str(atributo) + '-' + str(regra + 1) + '-' + 'p'))\n",
        "                lista.append(-Atom.id(str(atributo) + '-' + str(regra + 1) + '-' + 'n'))\n",
        "                lista.append(Atom.id(str(atributo) + '-' + str(regra + 1) + '-' + 's'))\n",
        "                lista2.append(lista)\n",
        "\n",
        "    return lista2\n",
        "\n",
        "r1= restricao1(m, lista_atributos)\n",
        "print(r1)"
      ],
      "metadata": {
        "colab": {
          "base_uri": "https://localhost:8080/"
        },
        "id": "hY1Shpf9jxYV",
        "outputId": "ef23ee57-7c5e-4067-ca4e-9ce99383948b"
      },
      "execution_count": 237,
      "outputs": [
        {
          "output_type": "stream",
          "name": "stdout",
          "text": [
            "[[1, -2, -3], [-1, 2, -3], [-1, -2, 3], [40, -41, -42], [-40, 41, -42], [-40, -41, 42], [309, -310, -311], [-309, 310, -311], [-309, -310, 311], [61, -62, -63], [-61, 62, -63], [-61, -62, 63], [100, -101, -102], [-100, 101, -102], [-100, -101, 102], [312, -313, -314], [-312, 313, -314], [-312, -313, 314], [121, -122, -123], [-121, 122, -123], [-121, -122, 123], [160, -161, -162], [-160, 161, -162], [-160, -161, 162], [315, -316, -317], [-315, 316, -317], [-315, -316, 317], [181, -182, -183], [-181, 182, -183], [-181, -182, 183], [220, -221, -222], [-220, 221, -222], [-220, -221, 222], [318, -319, -320], [-318, 319, -320], [-318, -319, 320]]\n"
          ]
        }
      ]
    },
    {
      "cell_type": "markdown",
      "source": [
        "## **Restrição 2** "
      ],
      "metadata": {
        "id": "VcU5GqeHk0zz"
      }
    },
    {
      "cell_type": "code",
      "source": [
        "def restricao2(m, lista_atributos):\n",
        "    lista1 = []\n",
        "    regra=0\n",
        "    while regra < m:\n",
        "        lista2 = []\n",
        "        for atributo in range(0, len(lista_atributos) - 1):\n",
        "            lista2.append(-Atom.id(str(lista_atributos) + '-' + str(regra + 1) + '-' + 'n'))\n",
        "        lista1.append(lista2)\n",
        "        regra+=1;\n",
        "    return(lista1)\n",
        "\n",
        "r2= restricao2(m, lista_atributos)\n",
        "print(r2)"
      ],
      "metadata": {
        "colab": {
          "base_uri": "https://localhost:8080/"
        },
        "id": "xfWg94oEk35d",
        "outputId": "763bd853-268b-4984-ad36-3c9967ed2fcf"
      },
      "execution_count": 238,
      "outputs": [
        {
          "output_type": "stream",
          "name": "stdout",
          "text": [
            "[[-321, -321, -321], [-322, -322, -322], [-323, -323, -323], [-324, -324, -324]]\n"
          ]
        }
      ]
    },
    {
      "cell_type": "markdown",
      "source": [
        "## **Restrição 3** "
      ],
      "metadata": {
        "id": "aQ7zYVyrlycR"
      }
    },
    {
      "cell_type": "code",
      "source": [
        "def restricao3(m, lista_atributos, qtdPacientes, valoracao):\n",
        "    lista = []\n",
        "    lista2 = []\n",
        "    j=0\n",
        "    regra=0\n",
        "    while True:\n",
        "      if j == qtdPacientes:\n",
        "          break\n",
        "      if valoracao[j][lista_atributos.index('P')] == 0:\n",
        "          while True:\n",
        "            if regra == m:\n",
        "              break;\n",
        "            lista = []\n",
        "            for a in lista_atributos:\n",
        "                  if a != 'P':\n",
        "                    if valoracao[j][lista_atributos.index(str(a))] == 1: \n",
        "                        lista.append(-Atom.id(str(lista_atributos) + '-' + str(regra + 1) + '-' + 'n'))\n",
        "                    elif valoracao[j][lista_atributos.index(str(a))] == 0:\n",
        "                        lista.append(-Atom.id(str(lista_atributos) + '-' + str(regra + 1) + '-' + 'p'))\n",
        "            regra+=1\n",
        "            lista2.append(lista)\n",
        "      j+=1\n",
        "    return lista2\n",
        "\n",
        "r3= restricao3(m, lista_atributos, qtdPacientes, valoracao)\n",
        "print(r3)"
      ],
      "metadata": {
        "colab": {
          "base_uri": "https://localhost:8080/"
        },
        "id": "LxO5ukKRl2p5",
        "outputId": "40ffe382-afc4-4015-8724-e743430edf83"
      },
      "execution_count": 239,
      "outputs": [
        {
          "output_type": "stream",
          "name": "stdout",
          "text": [
            "[[-321, -321, -321], [-322, -322, -322], [-323, -323, -323], [-324, -324, -324]]\n"
          ]
        }
      ]
    },
    {
      "cell_type": "markdown",
      "source": [
        "## **Restrição 4** "
      ],
      "metadata": {
        "id": "dMS5B48E0GT5"
      }
    },
    {
      "cell_type": "code",
      "source": [
        "def restricao4(m, qtdPacientes, lista_atributos, valoracao):\n",
        "    lista = []\n",
        "    lista2 = []\n",
        "\n",
        "    for j in range(qtdPacientes):\n",
        "        if valoracao[j][lista_atributos.index('P')] == 1:\n",
        "            for regra in range(m):     \n",
        "                for atributo in lista_atributos:\n",
        "                    lista = []\n",
        "                    if atributo != 'P':\n",
        "                        if valoracao[j][lista_atributos.index(str(atributo))] == 1:\n",
        "                            lista.append(-Atom.id(str(atributo) + '-' + str(regra + 1) + '-' + 'n'))\n",
        "                            lista.append(-Atom.id('C-' + str(regra+1) + '-'+str(j+1)))\n",
        "                        else:\n",
        "                            lista.append(-Atom.id(str(atributo) + '-' + str(regra + 1) + '-' + 'p'))\n",
        "                            lista.append(-Atom.id('C-' + str(regra+1) + '-'+str(j+1)))\n",
        "                        lista2.append(lista)\n",
        "\n",
        "    return lista2\n",
        "\n",
        "r4=restricao4(m ,qtdPacientes, lista_atributos, valoracao)\n",
        "print(r4)"
      ],
      "metadata": {
        "colab": {
          "base_uri": "https://localhost:8080/"
        },
        "id": "EQVarqTW8i65",
        "outputId": "264855f0-9afc-4905-978a-dd2cd315d80c"
      },
      "execution_count": 243,
      "outputs": [
        {
          "output_type": "stream",
          "name": "stdout",
          "text": [
            "[[-1, -249], [-40, -249], [-309, -249], [-61, -250], [-100, -250], [-312, -250], [-121, -251], [-160, -251], [-315, -251], [-181, -252], [-220, -252], [-318, -252], [-1, -253], [-41, -253], [-309, -253], [-61, -254], [-101, -254], [-312, -254], [-121, -255], [-161, -255], [-315, -255], [-181, -256], [-221, -256], [-318, -256]]\n"
          ]
        }
      ]
    },
    {
      "cell_type": "markdown",
      "source": [
        "## **Restrição 5** "
      ],
      "metadata": {
        "id": "U5piUIq69cxa"
      }
    },
    {
      "cell_type": "code",
      "source": [
        "def restricao5(m, qtdPacientes, valoracao, lista_atributos):\n",
        "    lista = []\n",
        "    lista2 = []\n",
        "    for j in range(qtdPacientes):\n",
        "        lista = []\n",
        "        if valoracao[j][lista_atributos.index('P')] == 1:\n",
        "          for regra in range(m):\n",
        "              lista.append(Atom.id('C-' + str(regra+1) + '-'+str(j+1)))\n",
        "          lista2.append(lista)\n",
        "    formula = lista2\n",
        "    return formula\n",
        "r5= restricao5(m, qtdPacientes, valoracao, lista_atributos)\n",
        "print(r5)"
      ],
      "metadata": {
        "colab": {
          "base_uri": "https://localhost:8080/"
        },
        "id": "-MMs6cK09ems",
        "outputId": "3b6f8ba7-2c01-4010-d68c-08b8f1486a88"
      },
      "execution_count": 241,
      "outputs": [
        {
          "output_type": "stream",
          "name": "stdout",
          "text": [
            "[[249, 250, 251, 252], [253, 254, 255, 256]]\n"
          ]
        }
      ]
    },
    {
      "cell_type": "markdown",
      "source": [
        "## **Teste** "
      ],
      "metadata": {
        "id": "PKGfe3XsKog1"
      }
    },
    {
      "cell_type": "code",
      "source": [
        "\n",
        "teste = restricao1(m, lista_atributos)+restricao2(m, lista_atributos)+restricao3(m, lista_atributos, qtdPacientes, valoracao)+restricao4(m ,qtdPacientes, lista_atributos, valoracao)+restricao5(m, qtdPacientes, valoracao, lista_atributos)\n",
        "print(teste)\n"
      ],
      "metadata": {
        "colab": {
          "base_uri": "https://localhost:8080/"
        },
        "id": "TuPZ2BZtKsuK",
        "outputId": "1281180b-76f3-49f2-b489-1876b1292bc4"
      },
      "execution_count": 242,
      "outputs": [
        {
          "output_type": "stream",
          "name": "stdout",
          "text": [
            "[[1, -2, -3], [-1, 2, -3], [-1, -2, 3], [40, -41, -42], [-40, 41, -42], [-40, -41, 42], [309, -310, -311], [-309, 310, -311], [-309, -310, 311], [61, -62, -63], [-61, 62, -63], [-61, -62, 63], [100, -101, -102], [-100, 101, -102], [-100, -101, 102], [312, -313, -314], [-312, 313, -314], [-312, -313, 314], [121, -122, -123], [-121, 122, -123], [-121, -122, 123], [160, -161, -162], [-160, 161, -162], [-160, -161, 162], [315, -316, -317], [-315, 316, -317], [-315, -316, 317], [181, -182, -183], [-181, 182, -183], [-181, -182, 183], [220, -221, -222], [-220, 221, -222], [-220, -221, 222], [318, -319, -320], [-318, 319, -320], [-318, -319, 320], [-321, -321, -321], [-322, -322, -322], [-323, -323, -323], [-324, -324, -324], [-321, -321, -321], [-322, -322, -322], [-323, -323, -323], [-324, -324, -324], [-1, -249], [-40, -249], [-309, -249], [-61, -250], [-100, -250], [-312, -250], [-121, -251], [-160, -251], [-315, -251], [-181, -252], [-220, -252], [-318, -252], [-1, -253], [-41, -253], [-309, -253], [-61, -254], [-101, -254], [-312, -254], [-121, -255], [-161, -255], [-315, -255], [-181, -256], [-221, -256], [-318, -256], [249, 250, 251, 252], [253, 254, 255, 256]]\n"
          ]
        }
      ]
    }
  ]
}