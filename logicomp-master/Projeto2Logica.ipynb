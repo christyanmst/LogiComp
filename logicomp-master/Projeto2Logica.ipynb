{
  "cells": [
    {
      "cell_type": "code",
      "execution_count": 1,
      "metadata": {
        "colab": {
          "base_uri": "https://localhost:8080/"
        },
        "id": "WTuSXkcSdMaB",
        "outputId": "68dda2f1-d868-4f87-babb-8f3e551948ed"
      },
      "outputs": [
        {
          "output_type": "stream",
          "name": "stdout",
          "text": [
            "Looking in indexes: https://pypi.org/simple, https://us-python.pkg.dev/colab-wheels/public/simple/\n",
            "Collecting python-sat[aiger,pblib]\n",
            "  Downloading python_sat-0.1.7.dev19-cp37-cp37m-manylinux2010_x86_64.whl (1.8 MB)\n",
            "\u001b[K     |████████████████████████████████| 1.8 MB 12.0 MB/s \n",
            "\u001b[?25hRequirement already satisfied: six in /usr/local/lib/python3.7/dist-packages (from python-sat[aiger,pblib]) (1.15.0)\n",
            "Collecting pypblib>=0.0.3\n",
            "  Downloading pypblib-0.0.4-cp37-cp37m-manylinux2014_x86_64.whl (3.4 MB)\n",
            "\u001b[K     |████████████████████████████████| 3.4 MB 38.0 MB/s \n",
            "\u001b[?25hCollecting py-aiger-cnf>=2.0.0\n",
            "  Downloading py_aiger_cnf-5.0.4-py3-none-any.whl (5.2 kB)\n",
            "Collecting funcy<2.0,>=1.12\n",
            "  Downloading funcy-1.17-py2.py3-none-any.whl (33 kB)\n",
            "Collecting bidict<0.22.0,>=0.21.0\n",
            "  Downloading bidict-0.21.4-py3-none-any.whl (36 kB)\n",
            "Collecting py-aiger<7.0.0,>=6.0.0\n",
            "  Downloading py_aiger-6.1.23-py3-none-any.whl (18 kB)\n",
            "Collecting parsimonious<0.9.0,>=0.8.1\n",
            "  Downloading parsimonious-0.8.1.tar.gz (45 kB)\n",
            "\u001b[K     |████████████████████████████████| 45 kB 3.1 MB/s \n",
            "\u001b[?25hRequirement already satisfied: pyrsistent<0.19.0,>=0.18.0 in /usr/local/lib/python3.7/dist-packages (from py-aiger<7.0.0,>=6.0.0->py-aiger-cnf>=2.0.0->python-sat[aiger,pblib]) (0.18.1)\n",
            "Collecting toposort<2.0,>=1.5\n",
            "  Downloading toposort-1.7-py2.py3-none-any.whl (9.0 kB)\n",
            "Requirement already satisfied: sortedcontainers<3.0.0,>=2.3.0 in /usr/local/lib/python3.7/dist-packages (from py-aiger<7.0.0,>=6.0.0->py-aiger-cnf>=2.0.0->python-sat[aiger,pblib]) (2.4.0)\n",
            "Requirement already satisfied: attrs<22,>=21 in /usr/local/lib/python3.7/dist-packages (from py-aiger<7.0.0,>=6.0.0->py-aiger-cnf>=2.0.0->python-sat[aiger,pblib]) (21.4.0)\n",
            "Building wheels for collected packages: parsimonious\n",
            "  Building wheel for parsimonious (setup.py) ... \u001b[?25l\u001b[?25hdone\n",
            "  Created wheel for parsimonious: filename=parsimonious-0.8.1-py3-none-any.whl size=42723 sha256=23b69142d08d91a1250b426cb20ef9ff3ad2f952d7a332f27b5dadbef66f50f9\n",
            "  Stored in directory: /root/.cache/pip/wheels/88/5d/ba/f27d8af07306b65ee44f9d3f9cadea1db749a421a6db8a99bf\n",
            "Successfully built parsimonious\n",
            "Installing collected packages: toposort, parsimonious, funcy, bidict, py-aiger, python-sat, pypblib, py-aiger-cnf\n",
            "Successfully installed bidict-0.21.4 funcy-1.17 parsimonious-0.8.1 py-aiger-6.1.23 py-aiger-cnf-5.0.4 pypblib-0.0.4 python-sat-0.1.7.dev19 toposort-1.7\n"
          ]
        }
      ],
      "source": [
        "!pip install python-sat[pblib,aiger]"
      ]
    },
    {
      "cell_type": "code",
      "execution_count": 2,
      "metadata": {
        "id": "BsfuUopnrBuI"
      },
      "outputs": [],
      "source": [
        "from pysat.formula import IDPool\n",
        "from pysat.solvers import Cadical\n",
        "from pysat.formula import CNF\n",
        "cnf = CNF()\n",
        "Atom = IDPool()"
      ]
    },
    {
      "cell_type": "code",
      "execution_count": 3,
      "metadata": {
        "colab": {
          "base_uri": "https://localhost:8080/",
          "height": 74,
          "resources": {
            "http://localhost:8080/nbextensions/google.colab/files.js": {
              "data": "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",
              "headers": [
                [
                  "content-type",
                  "application/javascript"
                ]
              ],
              "ok": true,
              "status": 200,
              "status_text": ""
            }
          }
        },
        "id": "KLnUhnmVguRX",
        "outputId": "bf55b3e2-4c59-4040-e40d-3967ab137e78"
      },
      "outputs": [
        {
          "output_type": "display_data",
          "data": {
            "text/plain": [
              "<IPython.core.display.HTML object>"
            ],
            "text/html": [
              "\n",
              "     <input type=\"file\" id=\"files-b7a2a34a-b918-454e-b466-369ab5ce12ec\" name=\"files[]\" multiple disabled\n",
              "        style=\"border:none\" />\n",
              "     <output id=\"result-b7a2a34a-b918-454e-b466-369ab5ce12ec\">\n",
              "      Upload widget is only available when the cell has been executed in the\n",
              "      current browser session. Please rerun this cell to enable.\n",
              "      </output>\n",
              "      <script src=\"/nbextensions/google.colab/files.js\"></script> "
            ]
          },
          "metadata": {}
        },
        {
          "output_type": "stream",
          "name": "stdout",
          "text": [
            "Saving column_bin_5a_3p.csv to column_bin_5a_3p.csv\n"
          ]
        }
      ],
      "source": [
        "from google.colab import files\n",
        "uploaded = files.upload()"
      ]
    },
    {
      "cell_type": "code",
      "execution_count": 4,
      "metadata": {
        "colab": {
          "base_uri": "https://localhost:8080/",
          "height": 143
        },
        "id": "fIype_BUg2XM",
        "outputId": "53946bd9-55f9-4526-ec72-da64a50a0005"
      },
      "outputs": [
        {
          "output_type": "execute_result",
          "data": {
            "text/plain": [
              "   PI <= 42.09  PI <= 70.62  PI <= 80.61  GS <= 37.89  GS <= 57.55  P\n",
              "0            0            0            1            0            1  1\n",
              "1            0            0            0            0            0  1\n",
              "2            0            0            0            1            1  0"
            ],
            "text/html": [
              "\n",
              "  <div id=\"df-514f2cc0-8e22-4da3-9248-047f547e2a87\">\n",
              "    <div class=\"colab-df-container\">\n",
              "      <div>\n",
              "<style scoped>\n",
              "    .dataframe tbody tr th:only-of-type {\n",
              "        vertical-align: middle;\n",
              "    }\n",
              "\n",
              "    .dataframe tbody tr th {\n",
              "        vertical-align: top;\n",
              "    }\n",
              "\n",
              "    .dataframe thead th {\n",
              "        text-align: right;\n",
              "    }\n",
              "</style>\n",
              "<table border=\"1\" class=\"dataframe\">\n",
              "  <thead>\n",
              "    <tr style=\"text-align: right;\">\n",
              "      <th></th>\n",
              "      <th>PI &lt;= 42.09</th>\n",
              "      <th>PI &lt;= 70.62</th>\n",
              "      <th>PI &lt;= 80.61</th>\n",
              "      <th>GS &lt;= 37.89</th>\n",
              "      <th>GS &lt;= 57.55</th>\n",
              "      <th>P</th>\n",
              "    </tr>\n",
              "  </thead>\n",
              "  <tbody>\n",
              "    <tr>\n",
              "      <th>0</th>\n",
              "      <td>0</td>\n",
              "      <td>0</td>\n",
              "      <td>1</td>\n",
              "      <td>0</td>\n",
              "      <td>1</td>\n",
              "      <td>1</td>\n",
              "    </tr>\n",
              "    <tr>\n",
              "      <th>1</th>\n",
              "      <td>0</td>\n",
              "      <td>0</td>\n",
              "      <td>0</td>\n",
              "      <td>0</td>\n",
              "      <td>0</td>\n",
              "      <td>1</td>\n",
              "    </tr>\n",
              "    <tr>\n",
              "      <th>2</th>\n",
              "      <td>0</td>\n",
              "      <td>0</td>\n",
              "      <td>0</td>\n",
              "      <td>1</td>\n",
              "      <td>1</td>\n",
              "      <td>0</td>\n",
              "    </tr>\n",
              "  </tbody>\n",
              "</table>\n",
              "</div>\n",
              "      <button class=\"colab-df-convert\" onclick=\"convertToInteractive('df-514f2cc0-8e22-4da3-9248-047f547e2a87')\"\n",
              "              title=\"Convert this dataframe to an interactive table.\"\n",
              "              style=\"display:none;\">\n",
              "        \n",
              "  <svg xmlns=\"http://www.w3.org/2000/svg\" height=\"24px\"viewBox=\"0 0 24 24\"\n",
              "       width=\"24px\">\n",
              "    <path d=\"M0 0h24v24H0V0z\" fill=\"none\"/>\n",
              "    <path d=\"M18.56 5.44l.94 2.06.94-2.06 2.06-.94-2.06-.94-.94-2.06-.94 2.06-2.06.94zm-11 1L8.5 8.5l.94-2.06 2.06-.94-2.06-.94L8.5 2.5l-.94 2.06-2.06.94zm10 10l.94 2.06.94-2.06 2.06-.94-2.06-.94-.94-2.06-.94 2.06-2.06.94z\"/><path d=\"M17.41 7.96l-1.37-1.37c-.4-.4-.92-.59-1.43-.59-.52 0-1.04.2-1.43.59L10.3 9.45l-7.72 7.72c-.78.78-.78 2.05 0 2.83L4 21.41c.39.39.9.59 1.41.59.51 0 1.02-.2 1.41-.59l7.78-7.78 2.81-2.81c.8-.78.8-2.07 0-2.86zM5.41 20L4 18.59l7.72-7.72 1.47 1.35L5.41 20z\"/>\n",
              "  </svg>\n",
              "      </button>\n",
              "      \n",
              "  <style>\n",
              "    .colab-df-container {\n",
              "      display:flex;\n",
              "      flex-wrap:wrap;\n",
              "      gap: 12px;\n",
              "    }\n",
              "\n",
              "    .colab-df-convert {\n",
              "      background-color: #E8F0FE;\n",
              "      border: none;\n",
              "      border-radius: 50%;\n",
              "      cursor: pointer;\n",
              "      display: none;\n",
              "      fill: #1967D2;\n",
              "      height: 32px;\n",
              "      padding: 0 0 0 0;\n",
              "      width: 32px;\n",
              "    }\n",
              "\n",
              "    .colab-df-convert:hover {\n",
              "      background-color: #E2EBFA;\n",
              "      box-shadow: 0px 1px 2px rgba(60, 64, 67, 0.3), 0px 1px 3px 1px rgba(60, 64, 67, 0.15);\n",
              "      fill: #174EA6;\n",
              "    }\n",
              "\n",
              "    [theme=dark] .colab-df-convert {\n",
              "      background-color: #3B4455;\n",
              "      fill: #D2E3FC;\n",
              "    }\n",
              "\n",
              "    [theme=dark] .colab-df-convert:hover {\n",
              "      background-color: #434B5C;\n",
              "      box-shadow: 0px 1px 3px 1px rgba(0, 0, 0, 0.15);\n",
              "      filter: drop-shadow(0px 1px 2px rgba(0, 0, 0, 0.3));\n",
              "      fill: #FFFFFF;\n",
              "    }\n",
              "  </style>\n",
              "\n",
              "      <script>\n",
              "        const buttonEl =\n",
              "          document.querySelector('#df-514f2cc0-8e22-4da3-9248-047f547e2a87 button.colab-df-convert');\n",
              "        buttonEl.style.display =\n",
              "          google.colab.kernel.accessAllowed ? 'block' : 'none';\n",
              "\n",
              "        async function convertToInteractive(key) {\n",
              "          const element = document.querySelector('#df-514f2cc0-8e22-4da3-9248-047f547e2a87');\n",
              "          const dataTable =\n",
              "            await google.colab.kernel.invokeFunction('convertToInteractive',\n",
              "                                                     [key], {});\n",
              "          if (!dataTable) return;\n",
              "\n",
              "          const docLinkHtml = 'Like what you see? Visit the ' +\n",
              "            '<a target=\"_blank\" href=https://colab.research.google.com/notebooks/data_table.ipynb>data table notebook</a>'\n",
              "            + ' to learn more about interactive tables.';\n",
              "          element.innerHTML = '';\n",
              "          dataTable['output_type'] = 'display_data';\n",
              "          await google.colab.output.renderOutput(dataTable, element);\n",
              "          const docLink = document.createElement('div');\n",
              "          docLink.innerHTML = docLinkHtml;\n",
              "          element.appendChild(docLink);\n",
              "        }\n",
              "      </script>\n",
              "    </div>\n",
              "  </div>\n",
              "  "
            ]
          },
          "metadata": {},
          "execution_count": 4
        }
      ],
      "source": [
        "import pandas as pd\n",
        "import io\n",
        " \n",
        "arquivo = pd.read_csv(io.BytesIO(uploaded['column_bin_5a_3p.csv']))\n",
        "arquivo"
      ]
    },
    {
      "cell_type": "code",
      "execution_count": 5,
      "metadata": {
        "colab": {
          "base_uri": "https://localhost:8080/"
        },
        "id": "oeeWbm8YidRE",
        "outputId": "5cc1cfc2-81b0-4aaa-efc7-4ebeef2e4dd4"
      },
      "outputs": [
        {
          "output_type": "stream",
          "name": "stdout",
          "text": [
            "Quantidade de Pacientes:  3\n",
            "Atributos:  ['PI <= 42.09', 'PI <= 70.62', 'PI <= 80.61', 'GS <= 37.89', 'GS <= 57.55', 'P']\n",
            "Quantidade de Atributos:  6\n",
            "[(0, 0, 1, 0, 1, 1), (0, 0, 0, 0, 0, 1), (0, 0, 0, 1, 1, 0)]\n"
          ]
        }
      ],
      "source": [
        "#Quantidade de pacientes do DataFrame\n",
        "qtdPacientes=arquivo.shape[0]\n",
        "print(\"Quantidade de Pacientes: \",qtdPacientes)\n",
        "\n",
        "#Atributos do DataFrame\n",
        "lista_atributos=arquivo.columns.tolist()\n",
        "print(\"Atributos: \",lista_atributos)\n",
        "\n",
        "#Quantidade de atributos do DataFrame\n",
        "print(\"Quantidade de Atributos: \",arquivo.shape[1])\n",
        "\n",
        "#Valoração\n",
        "valoracao= [tuple(x) for x in arquivo.values]\n",
        "print(valoracao)\n",
        "\n",
        "#Quantidade de Regras\n",
        "m=4"
      ]
    },
    {
      "cell_type": "markdown",
      "metadata": {
        "id": "vTZxFgW0jtEv"
      },
      "source": [
        "## **Restrição 1** "
      ]
    },
    {
      "cell_type": "code",
      "execution_count": 30,
      "metadata": {
        "id": "hY1Shpf9jxYV",
        "colab": {
          "base_uri": "https://localhost:8080/"
        },
        "outputId": "b82fbcaa-b400-4ab9-9ae1-7ffaad837e95"
      },
      "outputs": [
        {
          "output_type": "stream",
          "name": "stdout",
          "text": [
            "[[-1, -2], [-1, -3], [-2, -3], [1, 2, 3], [-4, -5], [-4, -6], [-5, -6], [4, 5, 6], [-7, -8], [-7, -9], [-8, -9], [7, 8, 9], [-10, -11], [-10, -12], [-11, -12], [10, 11, 12], [-13, -14], [-13, -15], [-14, -15], [13, 14, 15], [-16, -17], [-16, -18], [-17, -18], [16, 17, 18], [-19, -20], [-19, -21], [-20, -21], [19, 20, 21], [-22, -23], [-22, -24], [-23, -24], [22, 23, 24], [-25, -26], [-25, -27], [-26, -27], [25, 26, 27], [-28, -29], [-28, -30], [-29, -30], [28, 29, 30], [-31, -32], [-31, -33], [-32, -33], [31, 32, 33], [-34, -35], [-34, -36], [-35, -36], [34, 35, 36], [-37, -38], [-37, -39], [-38, -39], [37, 38, 39], [-40, -41], [-40, -42], [-41, -42], [40, 41, 42], [-43, -44], [-43, -45], [-44, -45], [43, 44, 45], [-46, -47], [-46, -48], [-47, -48], [46, 47, 48], [-49, -50], [-49, -51], [-50, -51], [49, 50, 51], [-52, -53], [-52, -54], [-53, -54], [52, 53, 54], [-55, -56], [-55, -57], [-56, -57], [55, 56, 57], [-58, -59], [-58, -60], [-59, -60], [58, 59, 60]]\n"
          ]
        }
      ],
      "source": [
        "def restricao1(m, lista_atributos):\n",
        "\n",
        "    lista = []\n",
        "    lista2 = []\n",
        "    formula = []\n",
        "    regra=0\n",
        "    while True:\n",
        "      if regra == m:\n",
        "        break;\n",
        "      for atributo in lista_atributos:\n",
        "              if atributo != 'P':\n",
        "\n",
        "                  lista=[]\n",
        "                  lista.append(-Atom.id(str(atributo) + '-' + str(regra + 1) + '-' + 'p'))\n",
        "                  lista.append(-Atom.id(str(atributo) + '-' + str(regra + 1) + '-' + 'n'))\n",
        "                  lista2.append(lista)\n",
        "                  lista=[]\n",
        "\n",
        "                  lista=[]\n",
        "                  lista.append(-Atom.id(str(atributo) + '-' + str(regra + 1) + '-' + 'p'))\n",
        "                  lista.append(-Atom.id(str(atributo) + '-' + str(regra + 1) + '-' + 's'))\n",
        "                  lista2.append(lista)\n",
        "\n",
        "                  lista=[]\n",
        "                  lista.append(-Atom.id(str(atributo) + '-' + str(regra + 1) + '-' + 'n'))\n",
        "                  lista.append(-Atom.id(str(atributo) + '-' + str(regra + 1) + '-' + 's'))\n",
        "                  lista2.append(lista)\n",
        "\n",
        "                  lista=[]\n",
        "                  lista.append(Atom.id(str(atributo) + '-' + str(regra + 1) + '-' + 'p'))\n",
        "                  lista.append(Atom.id(str(atributo) + '-' + str(regra + 1) + '-' + 'n'))\n",
        "                  lista.append(Atom.id(str(atributo) + '-' + str(regra + 1) + '-' + 's'))\n",
        "                  lista2.append(lista)\n",
        "                  \n",
        "      regra+=1\n",
        "\n",
        "    return lista2\n",
        "\n",
        "r1= restricao1(m, lista_atributos)\n",
        "cnf.extend(r1)\n",
        "print(r1)"
      ]
    },
    {
      "cell_type": "markdown",
      "metadata": {
        "id": "VcU5GqeHk0zz"
      },
      "source": [
        "## **Restrição 2** "
      ]
    },
    {
      "cell_type": "code",
      "execution_count": 31,
      "metadata": {
        "id": "xfWg94oEk35d",
        "colab": {
          "base_uri": "https://localhost:8080/"
        },
        "outputId": "7ab65fbe-d3bf-422a-9dc4-41d2f6048b78"
      },
      "outputs": [
        {
          "output_type": "stream",
          "name": "stdout",
          "text": [
            "[[-81, -82, -83, -84, -85], [-86, -87, -88, -89, -90], [-91, -92, -93, -94, -95], [-96, -97, -98, -99, -100]]\n"
          ]
        }
      ],
      "source": [
        "def restricao2(m, lista_atributos):\n",
        "    lista1 = []\n",
        "    regra=0\n",
        "    while regra < m:\n",
        "        lista2 = []\n",
        "        for atributo in range(0, len(lista_atributos) - 1):\n",
        "          if atributo !='P':\n",
        "            lista2.append(-Atom.id(str(atributo) + '-' + str(regra + 1) + '-' + 's'))\n",
        "        lista1.append(lista2)\n",
        "        regra+=1;\n",
        "    return(lista1)\n",
        "\n",
        "r2= restricao2(m, lista_atributos)\n",
        "cnf.extend(r2)\n",
        "print(r2)"
      ]
    },
    {
      "cell_type": "markdown",
      "metadata": {
        "id": "aQ7zYVyrlycR"
      },
      "source": [
        "## **Restrição 3** "
      ]
    },
    {
      "cell_type": "code",
      "execution_count": 39,
      "metadata": {
        "id": "LxO5ukKRl2p5",
        "colab": {
          "base_uri": "https://localhost:8080/"
        },
        "outputId": "9edca256-2c55-415f-cf73-b96a7457a0cb"
      },
      "outputs": [
        {
          "output_type": "stream",
          "name": "stdout",
          "text": [
            "[[-1, -4, -7, -11, -14], [-16, -19, -22, -26, -29], [-31, -34, -37, -41, -44], [-46, -49, -52, -56, -59]]\n"
          ]
        }
      ],
      "source": [
        "def restricao3(m, lista_atributos, qtdPacientes, valoracao):\n",
        "    lista2 = []\n",
        "    j=0\n",
        "    regra=0\n",
        "\n",
        "    while True:\n",
        "      if j == qtdPacientes:\n",
        "          break\n",
        "      if valoracao[j][-1] == 0: \n",
        "          while True:\n",
        "            if regra == m:\n",
        "              break;\n",
        "            lista = []\n",
        "            for atributo in lista_atributos:\n",
        "                  if atributo != 'P':\n",
        "                    if valoracao[j][lista_atributos.index(str(atributo))] == 1: \n",
        "                        lista.append(-Atom.id(str(atributo) + '-' + str(regra + 1) + '-' + 'n')) \n",
        "                    elif valoracao[j][lista_atributos.index(str(atributo))] == 0:\n",
        "                        lista.append(-Atom.id(str(atributo) + '-' + str(regra + 1) + '-' + 'p'))\n",
        "            regra+=1\n",
        "            lista2.append(lista)\n",
        "      j+=1\n",
        "    return lista2\n",
        "\n",
        "r3= restricao3(m, lista_atributos, qtdPacientes, valoracao)\n",
        "cnf.extend(r3)\n",
        "print(r3)"
      ]
    },
    {
      "cell_type": "markdown",
      "metadata": {
        "id": "dMS5B48E0GT5"
      },
      "source": [
        "## **Restrição 4** "
      ]
    },
    {
      "cell_type": "code",
      "execution_count": 38,
      "metadata": {
        "id": "EQVarqTW8i65",
        "colab": {
          "base_uri": "https://localhost:8080/"
        },
        "outputId": "ea1fa247-90ba-41e4-e922-389760bf4906"
      },
      "outputs": [
        {
          "output_type": "stream",
          "name": "stdout",
          "text": [
            "[[-1, -73], [-4, -73], [-8, -73], [-10, -73], [-14, -73], [-16, -74], [-19, -74], [-23, -74], [-25, -74], [-29, -74], [-31, -75], [-34, -75], [-38, -75], [-40, -75], [-44, -75], [-46, -76], [-49, -76], [-53, -76], [-55, -76], [-59, -76], [-1, -77], [-4, -77], [-7, -77], [-10, -77], [-13, -77], [-16, -78], [-19, -78], [-22, -78], [-25, -78], [-28, -78], [-31, -79], [-34, -79], [-37, -79], [-40, -79], [-43, -79], [-46, -80], [-49, -80], [-52, -80], [-55, -80], [-58, -80]]\n"
          ]
        }
      ],
      "source": [
        "def restricao4(m, qtdPacientes, lista_atributos, valoracao):\n",
        "    lista = []\n",
        "    lista2 = []\n",
        "\n",
        "    for j in range(qtdPacientes):\n",
        "        if valoracao[j][-1] == 1:\n",
        "            for regra in range(m):     \n",
        "                for atributo in lista_atributos:\n",
        "                    lista = []\n",
        "                    if atributo != 'P':\n",
        "                        if valoracao[j][lista_atributos.index(str(atributo))] == 1:\n",
        "                            lista.append(-Atom.id(str(atributo) + '-' + str(regra + 1) + '-' + 'n'))\n",
        "                            lista.append(-Atom.id('C-' + str(regra+1) + '-'+str(j+1)))\n",
        "                        else:\n",
        "                            lista.append(-Atom.id(str(atributo) + '-' + str(regra + 1) + '-' + 'p'))\n",
        "                            lista.append(-Atom.id('C-' + str(regra+1) + '-'+str(j+1)))\n",
        "                        lista2.append(lista)\n",
        "\n",
        "    return lista2\n",
        "\n",
        "r4=restricao4(m ,qtdPacientes, lista_atributos, valoracao)\n",
        "cnf.extend(r4)\n",
        "print(r4)"
      ]
    },
    {
      "cell_type": "markdown",
      "metadata": {
        "id": "U5piUIq69cxa"
      },
      "source": [
        "## **Restrição 5** "
      ]
    },
    {
      "cell_type": "code",
      "execution_count": 37,
      "metadata": {
        "id": "-MMs6cK09ems",
        "colab": {
          "base_uri": "https://localhost:8080/"
        },
        "outputId": "85d69a85-ebc9-4843-c5c3-b7cb649272fd"
      },
      "outputs": [
        {
          "output_type": "stream",
          "name": "stdout",
          "text": [
            "[[73, 74, 75, 76], [77, 78, 79, 80]]\n"
          ]
        }
      ],
      "source": [
        "def restricao5(m, qtdPacientes, valoracao, lista_atributos):\n",
        "    lista2 = []\n",
        "    for j in range(qtdPacientes):\n",
        "        lista = []\n",
        "        if valoracao[j][-1] == 1:\n",
        "          for regra in range(m):\n",
        "              lista.append(Atom.id('C-' + str(regra+1) + '-'+str(j+1)))\n",
        "          lista2.append(lista)\n",
        "    return lista2\n",
        "r5= restricao5(m, qtdPacientes, valoracao, lista_atributos)\n",
        "cnf.extend(r5)\n",
        "print(r5)"
      ]
    },
    {
      "cell_type": "markdown",
      "metadata": {
        "id": "PKGfe3XsKog1"
      },
      "source": [
        "## **Teste** "
      ]
    },
    {
      "cell_type": "code",
      "execution_count": 36,
      "metadata": {
        "colab": {
          "base_uri": "https://localhost:8080/"
        },
        "id": "TuPZ2BZtKsuK",
        "outputId": "e6a75dbb-c5cf-43fb-92f5-0cea926095bd"
      },
      "outputs": [
        {
          "output_type": "stream",
          "name": "stdout",
          "text": [
            "[[1, -2, -3], [-1, 2, -3], [-1, -2, 3], [4, -5, -6], [-4, 5, -6], [-4, -5, 6], [7, -8, -9], [-7, 8, -9], [-7, -8, 9], [10, -11, -12], [-10, 11, -12], [-10, -11, 12], [13, -14, -15], [-13, 14, -15], [-13, -14, 15], [16, -17, -18], [-16, 17, -18], [-16, -17, 18], [19, -20, -21], [-19, 20, -21], [-19, -20, 21], [22, -23, -24], [-22, 23, -24], [-22, -23, 24], [25, -26, -27], [-25, 26, -27], [-25, -26, 27], [28, -29, -30], [-28, 29, -30], [-28, -29, 30], [31, -32, -33], [-31, 32, -33], [-31, -32, 33], [34, -35, -36], [-34, 35, -36], [-34, -35, 36], [37, -38, -39], [-37, 38, -39], [-37, -38, 39], [40, -41, -42], [-40, 41, -42], [-40, -41, 42], [43, -44, -45], [-43, 44, -45], [-43, -44, 45], [46, -47, -48], [-46, 47, -48], [-46, -47, 48], [49, -50, -51], [-49, 50, -51], [-49, -50, 51], [52, -53, -54], [-52, 53, -54], [-52, -53, 54], [55, -56, -57], [-55, 56, -57], [-55, -56, 57], [58, -59, -60], [-58, 59, -60], [-58, -59, 60], [-61, -61, -61, -61, -61], [-62, -62, -62, -62, -62], [-63, -63, -63, -63, -63], [-64, -64, -64, -64, -64], [-65, -65, -65, -66, -66], [-67, -67, -67, -68, -68], [-69, -69, -69, -70, -70], [-71, -71, -71, -72, -72], [-1, -73], [-4, -73], [-8, -73], [-10, -73], [-14, -73], [-16, -74], [-19, -74], [-23, -74], [-25, -74], [-29, -74], [-31, -75], [-34, -75], [-38, -75], [-40, -75], [-44, -75], [-46, -76], [-49, -76], [-53, -76], [-55, -76], [-59, -76], [-1, -77], [-4, -77], [-7, -77], [-10, -77], [-13, -77], [-16, -78], [-19, -78], [-22, -78], [-25, -78], [-28, -78], [-31, -79], [-34, -79], [-37, -79], [-40, -79], [-43, -79], [-46, -80], [-49, -80], [-52, -80], [-55, -80], [-58, -80], [73, 74, 75, 76], [77, 78, 79, 80], [1, 2, 3], [-1, -2], [-1, -3], [-2, -3], [4, 5, 6], [-4, -5], [-4, -6], [-5, -6], [7, 8, 9], [-7, -8], [-7, -9], [-8, -9], [10, 11, 12], [-10, -11], [-10, -12], [-11, -12], [13, 14, 15], [-13, -14], [-13, -15], [-14, -15], [16, 17, 18], [-16, -17], [-16, -18], [-17, -18], [19, 20, 21], [-19, -20], [-19, -21], [-20, -21], [22, 23, 24], [-22, -23], [-22, -24], [-23, -24], [25, 26, 27], [-25, -26], [-25, -27], [-26, -27], [28, 29, 30], [-28, -29], [-28, -30], [-29, -30], [31, 32, 33], [-31, -32], [-31, -33], [-32, -33], [34, 35, 36], [-34, -35], [-34, -36], [-35, -36], [37, 38, 39], [-37, -38], [-37, -39], [-38, -39], [40, 41, 42], [-40, -41], [-40, -42], [-41, -42], [43, 44, 45], [-43, -44], [-43, -45], [-44, -45], [46, 47, 48], [-46, -47], [-46, -48], [-47, -48], [49, 50, 51], [-49, -50], [-49, -51], [-50, -51], [52, 53, 54], [-52, -53], [-52, -54], [-53, -54], [55, 56, 57], [-55, -56], [-55, -57], [-56, -57], [58, 59, 60], [-58, -59], [-58, -60], [-59, -60], [-81, -82, -83, -84, -85], [-86, -87, -88, -89, -90], [-91, -92, -93, -94, -95], [-96, -97, -98, -99, -100], [-1, -4, -7, -11, -14], [-16, -19, -22, -26, -29], [-31, -34, -37, -41, -44], [-46, -49, -52, -56, -59], [-1, -73], [-4, -73], [-8, -73], [-10, -73], [-14, -73], [-16, -74], [-19, -74], [-23, -74], [-25, -74], [-29, -74], [-31, -75], [-34, -75], [-38, -75], [-40, -75], [-44, -75], [-46, -76], [-49, -76], [-53, -76], [-55, -76], [-59, -76], [-1, -77], [-4, -77], [-7, -77], [-10, -77], [-13, -77], [-16, -78], [-19, -78], [-22, -78], [-25, -78], [-28, -78], [-31, -79], [-34, -79], [-37, -79], [-40, -79], [-43, -79], [-46, -80], [-49, -80], [-52, -80], [-55, -80], [-58, -80], [73, 74, 75, 76], [77, 78, 79, 80], [1, 2, 3], [-1, -2], [-1, -3], [-2, -3], [4, 5, 6], [-4, -5], [-4, -6], [-5, -6], [7, 8, 9], [-7, -8], [-7, -9], [-8, -9], [10, 11, 12], [-10, -11], [-10, -12], [-11, -12], [13, 14, 15], [-13, -14], [-13, -15], [-14, -15], [16, 17, 18], [-16, -17], [-16, -18], [-17, -18], [19, 20, 21], [-19, -20], [-19, -21], [-20, -21], [22, 23, 24], [-22, -23], [-22, -24], [-23, -24], [25, 26, 27], [-25, -26], [-25, -27], [-26, -27], [28, 29, 30], [-28, -29], [-28, -30], [-29, -30], [31, 32, 33], [-31, -32], [-31, -33], [-32, -33], [34, 35, 36], [-34, -35], [-34, -36], [-35, -36], [37, 38, 39], [-37, -38], [-37, -39], [-38, -39], [40, 41, 42], [-40, -41], [-40, -42], [-41, -42], [43, 44, 45], [-43, -44], [-43, -45], [-44, -45], [46, 47, 48], [-46, -47], [-46, -48], [-47, -48], [49, 50, 51], [-49, -50], [-49, -51], [-50, -51], [52, 53, 54], [-52, -53], [-52, -54], [-53, -54], [55, 56, 57], [-55, -56], [-55, -57], [-56, -57], [58, 59, 60], [-58, -59], [-58, -60], [-59, -60], [-1, -2], [-1, -3], [-2, -3, 1, 2, 3], [-2, -3, 1, 2, 3], [-4, -5], [-4, -6], [-5, -6, 4, 5, 6], [-5, -6, 4, 5, 6], [-7, -8], [-7, -9], [-8, -9, 7, 8, 9], [-8, -9, 7, 8, 9], [-10, -11], [-10, -12], [-11, -12, 10, 11, 12], [-11, -12, 10, 11, 12], [-13, -14], [-13, -15], [-14, -15, 13, 14, 15], [-14, -15, 13, 14, 15], [-16, -17], [-16, -18], [-17, -18, 16, 17, 18], [-17, -18, 16, 17, 18], [-19, -20], [-19, -21], [-20, -21, 19, 20, 21], [-20, -21, 19, 20, 21], [-22, -23], [-22, -24], [-23, -24, 22, 23, 24], [-23, -24, 22, 23, 24], [-25, -26], [-25, -27], [-26, -27, 25, 26, 27], [-26, -27, 25, 26, 27], [-28, -29], [-28, -30], [-29, -30, 28, 29, 30], [-29, -30, 28, 29, 30], [-31, -32], [-31, -33], [-32, -33, 31, 32, 33], [-32, -33, 31, 32, 33], [-34, -35], [-34, -36], [-35, -36, 34, 35, 36], [-35, -36, 34, 35, 36], [-37, -38], [-37, -39], [-38, -39, 37, 38, 39], [-38, -39, 37, 38, 39], [-40, -41], [-40, -42], [-41, -42, 40, 41, 42], [-41, -42, 40, 41, 42], [-43, -44], [-43, -45], [-44, -45, 43, 44, 45], [-44, -45, 43, 44, 45], [-46, -47], [-46, -48], [-47, -48, 46, 47, 48], [-47, -48, 46, 47, 48], [-49, -50], [-49, -51], [-50, -51, 49, 50, 51], [-50, -51, 49, 50, 51], [-52, -53], [-52, -54], [-53, -54, 52, 53, 54], [-53, -54, 52, 53, 54], [-55, -56], [-55, -57], [-56, -57, 55, 56, 57], [-56, -57, 55, 56, 57], [-58, -59], [-58, -60], [-59, -60, 58, 59, 60], [-59, -60, 58, 59, 60], [-1, -2], [-1, -3], [-2, -3], [1, 2, 3], [-4, -5], [-4, -6], [-5, -6], [4, 5, 6], [-7, -8], [-7, -9], [-8, -9], [7, 8, 9], [-10, -11], [-10, -12], [-11, -12], [10, 11, 12], [-13, -14], [-13, -15], [-14, -15], [13, 14, 15], [-16, -17], [-16, -18], [-17, -18], [16, 17, 18], [-19, -20], [-19, -21], [-20, -21], [19, 20, 21], [-22, -23], [-22, -24], [-23, -24], [22, 23, 24], [-25, -26], [-25, -27], [-26, -27], [25, 26, 27], [-28, -29], [-28, -30], [-29, -30], [28, 29, 30], [-31, -32], [-31, -33], [-32, -33], [31, 32, 33], [-34, -35], [-34, -36], [-35, -36], [34, 35, 36], [-37, -38], [-37, -39], [-38, -39], [37, 38, 39], [-40, -41], [-40, -42], [-41, -42], [40, 41, 42], [-43, -44], [-43, -45], [-44, -45], [43, 44, 45], [-46, -47], [-46, -48], [-47, -48], [46, 47, 48], [-49, -50], [-49, -51], [-50, -51], [49, 50, 51], [-52, -53], [-52, -54], [-53, -54], [52, 53, 54], [-55, -56], [-55, -57], [-56, -57], [55, 56, 57], [-58, -59], [-58, -60], [-59, -60], [58, 59, 60], [-81, -82, -83, -84, -85], [-86, -87, -88, -89, -90], [-91, -92, -93, -94, -95], [-96, -97, -98, -99, -100], [-1, -4, -7, -11, -14], [-16, -19, -22, -26, -29], [-31, -34, -37, -41, -44], [-46, -49, -52, -56, -59], [-1, -73], [-4, -73], [-8, -73], [-10, -73], [-14, -73], [-16, -74], [-19, -74], [-23, -74], [-25, -74], [-29, -74], [-31, -75], [-34, -75], [-38, -75], [-40, -75], [-44, -75], [-46, -76], [-49, -76], [-53, -76], [-55, -76], [-59, -76], [-1, -77], [-4, -77], [-7, -77], [-10, -77], [-13, -77], [-16, -78], [-19, -78], [-22, -78], [-25, -78], [-28, -78], [-31, -79], [-34, -79], [-37, -79], [-40, -79], [-43, -79], [-46, -80], [-49, -80], [-52, -80], [-55, -80], [-58, -80], [-65, -65, -65, -66, -66], [-67, -67, -67, -68, -68], [-69, -69, -69, -70, -70], [-71, -71, -71, -72, -72], [-1, -4, -7, -11, -14], [-16, -19, -22, -26, -29], [-31, -34, -37, -41, -44], [-46, -49, -52, -56, -59], [-1, -2], [-1, -3], [-2, -3], [1, 2, 3], [-4, -5], [-4, -6], [-5, -6], [4, 5, 6], [-7, -8], [-7, -9], [-8, -9], [7, 8, 9], [-10, -11], [-10, -12], [-11, -12], [10, 11, 12], [-13, -14], [-13, -15], [-14, -15], [13, 14, 15], [-16, -17], [-16, -18], [-17, -18], [16, 17, 18], [-19, -20], [-19, -21], [-20, -21], [19, 20, 21], [-22, -23], [-22, -24], [-23, -24], [22, 23, 24], [-25, -26], [-25, -27], [-26, -27], [25, 26, 27], [-28, -29], [-28, -30], [-29, -30], [28, 29, 30], [-31, -32], [-31, -33], [-32, -33], [31, 32, 33], [-34, -35], [-34, -36], [-35, -36], [34, 35, 36], [-37, -38], [-37, -39], [-38, -39], [37, 38, 39], [-40, -41], [-40, -42], [-41, -42], [40, 41, 42], [-43, -44], [-43, -45], [-44, -45], [43, 44, 45], [-46, -47], [-46, -48], [-47, -48], [46, 47, 48], [-49, -50], [-49, -51], [-50, -51], [49, 50, 51], [-52, -53], [-52, -54], [-53, -54], [52, 53, 54], [-55, -56], [-55, -57], [-56, -57], [55, 56, 57], [-58, -59], [-58, -60], [-59, -60], [58, 59, 60], [-81, -82, -83, -84, -85], [-86, -87, -88, -89, -90], [-91, -92, -93, -94, -95], [-96, -97, -98, -99, -100], [-1, -4, -7, -11, -14], [-16, -19, -22, -26, -29], [-31, -34, -37, -41, -44], [-46, -49, -52, -56, -59], [-1, -4, -7, -11, -14], [-16, -19, -22, -26, -29], [-31, -34, -37, -41, -44], [-46, -49, -52, -56, -59], [-1, -73], [-4, -73], [-8, -73], [-10, -73], [-14, -73], [-16, -74], [-19, -74], [-23, -74], [-25, -74], [-29, -74], [-31, -75], [-34, -75], [-38, -75], [-40, -75], [-44, -75], [-46, -76], [-49, -76], [-53, -76], [-55, -76], [-59, -76], [-1, -77], [-4, -77], [-7, -77], [-10, -77], [-13, -77], [-16, -78], [-19, -78], [-22, -78], [-25, -78], [-28, -78], [-31, -79], [-34, -79], [-37, -79], [-40, -79], [-43, -79], [-46, -80], [-49, -80], [-52, -80], [-55, -80], [-58, -80], [73, 74, 75, 76], [77, 78, 79, 80]]\n",
            "\n",
            "Atom.id: 1 = PI <= 42.09-1-p, \n",
            "Atom.id: -2 = Not ( PI <= 42.09-1-n), \n",
            "Atom.id: -3 = Not ( PI <= 42.09-1-s), \n",
            "Atom.id: 4 = PI <= 70.62-1-p, \n",
            "Atom.id: -5 = Not ( PI <= 70.62-1-n), \n",
            "Atom.id: -6 = Not ( PI <= 70.62-1-s), \n",
            "Atom.id: 7 = PI <= 80.61-1-p, \n",
            "Atom.id: -8 = Not ( PI <= 80.61-1-n), \n",
            "Atom.id: -9 = Not ( PI <= 80.61-1-s), \n",
            "Atom.id: 10 = GS <= 37.89-1-p, \n",
            "Atom.id: -11 = Not ( GS <= 37.89-1-n), \n",
            "Atom.id: -12 = Not ( GS <= 37.89-1-s), \n",
            "Atom.id: 13 = GS <= 57.55-1-p, \n",
            "Atom.id: -14 = Not ( GS <= 57.55-1-n), \n",
            "Atom.id: -15 = Not ( GS <= 57.55-1-s), \n",
            "Atom.id: 16 = PI <= 42.09-2-p, \n",
            "Atom.id: -17 = Not ( PI <= 42.09-2-n), \n",
            "Atom.id: -18 = Not ( PI <= 42.09-2-s), \n",
            "Atom.id: 19 = PI <= 70.62-2-p, \n",
            "Atom.id: -20 = Not ( PI <= 70.62-2-n), \n",
            "Atom.id: -21 = Not ( PI <= 70.62-2-s), \n",
            "Atom.id: 22 = PI <= 80.61-2-p, \n",
            "Atom.id: -23 = Not ( PI <= 80.61-2-n), \n",
            "Atom.id: -24 = Not ( PI <= 80.61-2-s), \n",
            "Atom.id: 25 = GS <= 37.89-2-p, \n",
            "Atom.id: -26 = Not ( GS <= 37.89-2-n), \n",
            "Atom.id: -27 = Not ( GS <= 37.89-2-s), \n",
            "Atom.id: 28 = GS <= 57.55-2-p, \n",
            "Atom.id: -29 = Not ( GS <= 57.55-2-n), \n",
            "Atom.id: -30 = Not ( GS <= 57.55-2-s), \n",
            "Atom.id: 31 = PI <= 42.09-3-p, \n",
            "Atom.id: -32 = Not ( PI <= 42.09-3-n), \n",
            "Atom.id: -33 = Not ( PI <= 42.09-3-s), \n",
            "Atom.id: 34 = PI <= 70.62-3-p, \n",
            "Atom.id: -35 = Not ( PI <= 70.62-3-n), \n",
            "Atom.id: -36 = Not ( PI <= 70.62-3-s), \n",
            "Atom.id: 37 = PI <= 80.61-3-p, \n",
            "Atom.id: -38 = Not ( PI <= 80.61-3-n), \n",
            "Atom.id: -39 = Not ( PI <= 80.61-3-s), \n",
            "Atom.id: 40 = GS <= 37.89-3-p, \n",
            "Atom.id: -41 = Not ( GS <= 37.89-3-n), \n",
            "Atom.id: -42 = Not ( GS <= 37.89-3-s), \n",
            "Atom.id: 43 = GS <= 57.55-3-p, \n",
            "Atom.id: -44 = Not ( GS <= 57.55-3-n), \n",
            "Atom.id: -45 = Not ( GS <= 57.55-3-s), \n",
            "Atom.id: -46 = Not ( PI <= 42.09-4-p), \n",
            "Atom.id: 47 = PI <= 42.09-4-n, \n",
            "Atom.id: -48 = Not ( PI <= 42.09-4-s), \n",
            "Atom.id: -49 = Not ( PI <= 70.62-4-p), \n",
            "Atom.id: 50 = PI <= 70.62-4-n, \n",
            "Atom.id: -51 = Not ( PI <= 70.62-4-s), \n",
            "Atom.id: -52 = Not ( PI <= 80.61-4-p), \n",
            "Atom.id: -53 = Not ( PI <= 80.61-4-n), \n",
            "Atom.id: 54 = PI <= 80.61-4-s, \n",
            "Atom.id: -55 = Not ( GS <= 37.89-4-p), \n",
            "Atom.id: 56 = GS <= 37.89-4-n, \n",
            "Atom.id: -57 = Not ( GS <= 37.89-4-s), \n",
            "Atom.id: -58 = Not ( GS <= 57.55-4-p), \n",
            "Atom.id: -59 = Not ( GS <= 57.55-4-n), \n",
            "Atom.id: 60 = GS <= 57.55-4-s, \n",
            "Atom.id: -61 = Not ( ['PI <= 42.09', 'PI <= 70.62', 'PI <= 80.61', 'GS <= 37.89', 'GS <= 57.55', 'P']-1-s), \n",
            "Atom.id: -62 = Not ( ['PI <= 42.09', 'PI <= 70.62', 'PI <= 80.61', 'GS <= 37.89', 'GS <= 57.55', 'P']-2-s), \n",
            "Atom.id: -63 = Not ( ['PI <= 42.09', 'PI <= 70.62', 'PI <= 80.61', 'GS <= 37.89', 'GS <= 57.55', 'P']-3-s), \n",
            "Atom.id: -64 = Not ( ['PI <= 42.09', 'PI <= 70.62', 'PI <= 80.61', 'GS <= 37.89', 'GS <= 57.55', 'P']-4-s), \n",
            "Atom.id: 65 = ['PI <= 42.09', 'PI <= 70.62', 'PI <= 80.61', 'GS <= 37.89', 'GS <= 57.55', 'P']-1-p, \n",
            "Atom.id: -66 = Not ( ['PI <= 42.09', 'PI <= 70.62', 'PI <= 80.61', 'GS <= 37.89', 'GS <= 57.55', 'P']-1-n), \n",
            "Atom.id: 67 = ['PI <= 42.09', 'PI <= 70.62', 'PI <= 80.61', 'GS <= 37.89', 'GS <= 57.55', 'P']-2-p, \n",
            "Atom.id: -68 = Not ( ['PI <= 42.09', 'PI <= 70.62', 'PI <= 80.61', 'GS <= 37.89', 'GS <= 57.55', 'P']-2-n), \n",
            "Atom.id: 69 = ['PI <= 42.09', 'PI <= 70.62', 'PI <= 80.61', 'GS <= 37.89', 'GS <= 57.55', 'P']-3-p, \n",
            "Atom.id: -70 = Not ( ['PI <= 42.09', 'PI <= 70.62', 'PI <= 80.61', 'GS <= 37.89', 'GS <= 57.55', 'P']-3-n), \n",
            "Atom.id: 71 = ['PI <= 42.09', 'PI <= 70.62', 'PI <= 80.61', 'GS <= 37.89', 'GS <= 57.55', 'P']-4-p, \n",
            "Atom.id: -72 = Not ( ['PI <= 42.09', 'PI <= 70.62', 'PI <= 80.61', 'GS <= 37.89', 'GS <= 57.55', 'P']-4-n), \n",
            "Atom.id: -73 = Not ( C-1-1), \n",
            "Atom.id: -74 = Not ( C-2-1), \n",
            "Atom.id: -75 = Not ( C-3-1), \n",
            "Atom.id: 76 = C-4-1, \n",
            "Atom.id: -77 = Not ( C-1-2), \n",
            "Atom.id: -78 = Not ( C-2-2), \n",
            "Atom.id: -79 = Not ( C-3-2), \n",
            "Atom.id: 80 = C-4-2, \n",
            "Atom.id: 81 = 0-1-s, \n",
            "Atom.id: 82 = 1-1-s, \n",
            "Atom.id: 83 = 2-1-s, \n",
            "Atom.id: 84 = 3-1-s, \n",
            "Atom.id: -85 = Not ( 4-1-s), \n",
            "Atom.id: 86 = 0-2-s, \n",
            "Atom.id: 87 = 1-2-s, \n",
            "Atom.id: 88 = 2-2-s, \n",
            "Atom.id: 89 = 3-2-s, \n",
            "Atom.id: -90 = Not ( 4-2-s), \n",
            "Atom.id: 91 = 0-3-s, \n",
            "Atom.id: 92 = 1-3-s, \n",
            "Atom.id: 93 = 2-3-s, \n",
            "Atom.id: 94 = 3-3-s, \n",
            "Atom.id: -95 = Not ( 4-3-s), \n",
            "Atom.id: 96 = 0-4-s, \n",
            "Atom.id: 97 = 1-4-s, \n",
            "Atom.id: 98 = 2-4-s, \n",
            "Atom.id: 99 = 3-4-s, \n",
            "Atom.id: -100 = Not ( 4-4-s), "
          ]
        }
      ],
      "source": [
        "print(cnf.clauses)\n",
        "Formula = Cadical()\n",
        "Formula.append_formula(cnf.clauses)\n",
        "\n",
        "if Formula.solve():\n",
        "    lista = Formula.get_model()\n",
        "    for atomID in lista:\n",
        "      if atomID < 0:\n",
        "        print(\"\\nAtom.id:\", atomID, '=', 'Not (', Atom.obj(atomID*-1), end = '), ')\n",
        "      else:\n",
        "        print(\"\\nAtom.id:\", atomID, '=', Atom.obj(atomID),  end = ', ')\n",
        "else:\n",
        "    print(\"Não foi achada uma valoração\")\n",
        "\n"
      ]
    }
  ],
  "metadata": {
    "colab": {
      "collapsed_sections": [],
      "name": "Projeto2Logica.ipynb",
      "provenance": []
    },
    "kernelspec": {
      "display_name": "Python 3",
      "name": "python3"
    },
    "language_info": {
      "name": "python"
    }
  },
  "nbformat": 4,
  "nbformat_minor": 0
}