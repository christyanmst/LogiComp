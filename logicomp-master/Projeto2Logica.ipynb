{
  "cells": [
    {
      "cell_type": "code",
      "execution_count": 2,
      "metadata": {
        "colab": {
          "base_uri": "https://localhost:8080/"
        },
        "id": "WTuSXkcSdMaB",
        "outputId": "c9a5f038-ae66-49e7-9ac2-89a188a3c346"
      },
      "outputs": [
        {
          "output_type": "stream",
          "name": "stdout",
          "text": [
            "Looking in indexes: https://pypi.org/simple, https://us-python.pkg.dev/colab-wheels/public/simple/\n",
            "Collecting python-sat[aiger,pblib]\n",
            "  Downloading python_sat-0.1.7.dev19-cp37-cp37m-manylinux2010_x86_64.whl (1.8 MB)\n",
            "\u001b[K     |████████████████████████████████| 1.8 MB 4.3 MB/s \n",
            "\u001b[?25hRequirement already satisfied: six in /usr/local/lib/python3.7/dist-packages (from python-sat[aiger,pblib]) (1.15.0)\n",
            "Collecting py-aiger-cnf>=2.0.0\n",
            "  Downloading py_aiger_cnf-5.0.4-py3-none-any.whl (5.2 kB)\n",
            "Collecting pypblib>=0.0.3\n",
            "  Downloading pypblib-0.0.4-cp37-cp37m-manylinux2014_x86_64.whl (3.4 MB)\n",
            "\u001b[K     |████████████████████████████████| 3.4 MB 36.5 MB/s \n",
            "\u001b[?25hCollecting py-aiger<7.0.0,>=6.0.0\n",
            "  Downloading py_aiger-6.1.23-py3-none-any.whl (18 kB)\n",
            "Collecting bidict<0.22.0,>=0.21.0\n",
            "  Downloading bidict-0.21.4-py3-none-any.whl (36 kB)\n",
            "Collecting funcy<2.0,>=1.12\n",
            "  Downloading funcy-1.17-py2.py3-none-any.whl (33 kB)\n",
            "Requirement already satisfied: attrs<22,>=21 in /usr/local/lib/python3.7/dist-packages (from py-aiger<7.0.0,>=6.0.0->py-aiger-cnf>=2.0.0->python-sat[aiger,pblib]) (21.4.0)\n",
            "Collecting toposort<2.0,>=1.5\n",
            "  Downloading toposort-1.7-py2.py3-none-any.whl (9.0 kB)\n",
            "Requirement already satisfied: sortedcontainers<3.0.0,>=2.3.0 in /usr/local/lib/python3.7/dist-packages (from py-aiger<7.0.0,>=6.0.0->py-aiger-cnf>=2.0.0->python-sat[aiger,pblib]) (2.4.0)\n",
            "Requirement already satisfied: pyrsistent<0.19.0,>=0.18.0 in /usr/local/lib/python3.7/dist-packages (from py-aiger<7.0.0,>=6.0.0->py-aiger-cnf>=2.0.0->python-sat[aiger,pblib]) (0.18.1)\n",
            "Collecting parsimonious<0.9.0,>=0.8.1\n",
            "  Downloading parsimonious-0.8.1.tar.gz (45 kB)\n",
            "\u001b[K     |████████████████████████████████| 45 kB 2.0 MB/s \n",
            "\u001b[?25hBuilding wheels for collected packages: parsimonious\n",
            "  Building wheel for parsimonious (setup.py) ... \u001b[?25l\u001b[?25hdone\n",
            "  Created wheel for parsimonious: filename=parsimonious-0.8.1-py3-none-any.whl size=42723 sha256=8389c042bd88986711a9607729099e65aaddee80ce251873ba7ff32093ff6e58\n",
            "  Stored in directory: /root/.cache/pip/wheels/88/5d/ba/f27d8af07306b65ee44f9d3f9cadea1db749a421a6db8a99bf\n",
            "Successfully built parsimonious\n",
            "Installing collected packages: toposort, parsimonious, funcy, bidict, py-aiger, python-sat, pypblib, py-aiger-cnf\n",
            "Successfully installed bidict-0.21.4 funcy-1.17 parsimonious-0.8.1 py-aiger-6.1.23 py-aiger-cnf-5.0.4 pypblib-0.0.4 python-sat-0.1.7.dev19 toposort-1.7\n"
          ]
        }
      ],
      "source": [
        "!pip install python-sat[pblib,aiger]"
      ]
    },
    {
      "cell_type": "code",
      "execution_count": 35,
      "metadata": {
        "id": "BsfuUopnrBuI"
      },
      "outputs": [],
      "source": [
        "from pysat.formula import IDPool\n",
        "from pysat.solvers import Cadical\n",
        "from pysat.formula import CNF\n",
        "cnf = CNF()\n",
        "Atom = IDPool()"
      ]
    },
    {
      "cell_type": "code",
      "execution_count": 5,
      "metadata": {
        "colab": {
          "base_uri": "https://localhost:8080/",
          "height": 73,
          "resources": {
            "http://localhost:8080/nbextensions/google.colab/files.js": {
              "data": "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",
              "headers": [
                [
                  "content-type",
                  "application/javascript"
                ]
              ],
              "ok": true,
              "status": 200,
              "status_text": ""
            }
          }
        },
        "id": "KLnUhnmVguRX",
        "outputId": "d56e66dd-220a-4907-8813-86f1c5d2581f"
      },
      "outputs": [
        {
          "output_type": "display_data",
          "data": {
            "text/plain": [
              "<IPython.core.display.HTML object>"
            ],
            "text/html": [
              "\n",
              "     <input type=\"file\" id=\"files-47d03861-86b8-4899-9b5f-5590a34d3e6b\" name=\"files[]\" multiple disabled\n",
              "        style=\"border:none\" />\n",
              "     <output id=\"result-47d03861-86b8-4899-9b5f-5590a34d3e6b\">\n",
              "      Upload widget is only available when the cell has been executed in the\n",
              "      current browser session. Please rerun this cell to enable.\n",
              "      </output>\n",
              "      <script src=\"/nbextensions/google.colab/files.js\"></script> "
            ]
          },
          "metadata": {}
        },
        {
          "output_type": "stream",
          "name": "stdout",
          "text": [
            "Saving column_bin_10a_10p.csv to column_bin_10a_10p.csv\n"
          ]
        }
      ],
      "source": [
        "from google.colab import files\n",
        "uploaded = files.upload()"
      ]
    },
    {
      "cell_type": "code",
      "execution_count": 6,
      "metadata": {
        "colab": {
          "base_uri": "https://localhost:8080/",
          "height": 363
        },
        "id": "fIype_BUg2XM",
        "outputId": "69a106b6-546a-46c4-9c99-0b3dbc6bbbaf"
      },
      "outputs": [
        {
          "output_type": "execute_result",
          "data": {
            "text/plain": [
              "   LA <= 39.63  PI <= 48.12  PI <= 54.92  PI <= 63.52  PI <= 70.62  \\\n",
              "0            0            0            0            0            0   \n",
              "1            0            0            0            0            0   \n",
              "2            0            0            0            0            1   \n",
              "3            0            0            1            1            1   \n",
              "4            1            0            0            0            0   \n",
              "5            0            0            1            1            1   \n",
              "6            0            0            0            0            0   \n",
              "7            0            1            1            1            1   \n",
              "8            1            1            1            1            1   \n",
              "9            0            0            1            1            1   \n",
              "\n",
              "   PI <= 80.61  PT <= 8.31  PT <= 12.36  PT <= 14.55  GS <= 37.89  P  \n",
              "0            0           0            0            0            0  1  \n",
              "1            1           0            0            0            0  1  \n",
              "2            1           0            0            1            1  1  \n",
              "3            1           1            1            1            1  1  \n",
              "4            1           0            0            0            0  1  \n",
              "5            1           0            1            1            1  0  \n",
              "6            1           0            0            0            1  0  \n",
              "7            1           0            0            1            1  0  \n",
              "8            1           1            1            1            1  0  \n",
              "9            1           1            1            1            0  0  "
            ],
            "text/html": [
              "\n",
              "  <div id=\"df-04c25c7d-8aea-47b9-b06e-98e09ecbf36c\">\n",
              "    <div class=\"colab-df-container\">\n",
              "      <div>\n",
              "<style scoped>\n",
              "    .dataframe tbody tr th:only-of-type {\n",
              "        vertical-align: middle;\n",
              "    }\n",
              "\n",
              "    .dataframe tbody tr th {\n",
              "        vertical-align: top;\n",
              "    }\n",
              "\n",
              "    .dataframe thead th {\n",
              "        text-align: right;\n",
              "    }\n",
              "</style>\n",
              "<table border=\"1\" class=\"dataframe\">\n",
              "  <thead>\n",
              "    <tr style=\"text-align: right;\">\n",
              "      <th></th>\n",
              "      <th>LA &lt;= 39.63</th>\n",
              "      <th>PI &lt;= 48.12</th>\n",
              "      <th>PI &lt;= 54.92</th>\n",
              "      <th>PI &lt;= 63.52</th>\n",
              "      <th>PI &lt;= 70.62</th>\n",
              "      <th>PI &lt;= 80.61</th>\n",
              "      <th>PT &lt;= 8.31</th>\n",
              "      <th>PT &lt;= 12.36</th>\n",
              "      <th>PT &lt;= 14.55</th>\n",
              "      <th>GS &lt;= 37.89</th>\n",
              "      <th>P</th>\n",
              "    </tr>\n",
              "  </thead>\n",
              "  <tbody>\n",
              "    <tr>\n",
              "      <th>0</th>\n",
              "      <td>0</td>\n",
              "      <td>0</td>\n",
              "      <td>0</td>\n",
              "      <td>0</td>\n",
              "      <td>0</td>\n",
              "      <td>0</td>\n",
              "      <td>0</td>\n",
              "      <td>0</td>\n",
              "      <td>0</td>\n",
              "      <td>0</td>\n",
              "      <td>1</td>\n",
              "    </tr>\n",
              "    <tr>\n",
              "      <th>1</th>\n",
              "      <td>0</td>\n",
              "      <td>0</td>\n",
              "      <td>0</td>\n",
              "      <td>0</td>\n",
              "      <td>0</td>\n",
              "      <td>1</td>\n",
              "      <td>0</td>\n",
              "      <td>0</td>\n",
              "      <td>0</td>\n",
              "      <td>0</td>\n",
              "      <td>1</td>\n",
              "    </tr>\n",
              "    <tr>\n",
              "      <th>2</th>\n",
              "      <td>0</td>\n",
              "      <td>0</td>\n",
              "      <td>0</td>\n",
              "      <td>0</td>\n",
              "      <td>1</td>\n",
              "      <td>1</td>\n",
              "      <td>0</td>\n",
              "      <td>0</td>\n",
              "      <td>1</td>\n",
              "      <td>1</td>\n",
              "      <td>1</td>\n",
              "    </tr>\n",
              "    <tr>\n",
              "      <th>3</th>\n",
              "      <td>0</td>\n",
              "      <td>0</td>\n",
              "      <td>1</td>\n",
              "      <td>1</td>\n",
              "      <td>1</td>\n",
              "      <td>1</td>\n",
              "      <td>1</td>\n",
              "      <td>1</td>\n",
              "      <td>1</td>\n",
              "      <td>1</td>\n",
              "      <td>1</td>\n",
              "    </tr>\n",
              "    <tr>\n",
              "      <th>4</th>\n",
              "      <td>1</td>\n",
              "      <td>0</td>\n",
              "      <td>0</td>\n",
              "      <td>0</td>\n",
              "      <td>0</td>\n",
              "      <td>1</td>\n",
              "      <td>0</td>\n",
              "      <td>0</td>\n",
              "      <td>0</td>\n",
              "      <td>0</td>\n",
              "      <td>1</td>\n",
              "    </tr>\n",
              "    <tr>\n",
              "      <th>5</th>\n",
              "      <td>0</td>\n",
              "      <td>0</td>\n",
              "      <td>1</td>\n",
              "      <td>1</td>\n",
              "      <td>1</td>\n",
              "      <td>1</td>\n",
              "      <td>0</td>\n",
              "      <td>1</td>\n",
              "      <td>1</td>\n",
              "      <td>1</td>\n",
              "      <td>0</td>\n",
              "    </tr>\n",
              "    <tr>\n",
              "      <th>6</th>\n",
              "      <td>0</td>\n",
              "      <td>0</td>\n",
              "      <td>0</td>\n",
              "      <td>0</td>\n",
              "      <td>0</td>\n",
              "      <td>1</td>\n",
              "      <td>0</td>\n",
              "      <td>0</td>\n",
              "      <td>0</td>\n",
              "      <td>1</td>\n",
              "      <td>0</td>\n",
              "    </tr>\n",
              "    <tr>\n",
              "      <th>7</th>\n",
              "      <td>0</td>\n",
              "      <td>1</td>\n",
              "      <td>1</td>\n",
              "      <td>1</td>\n",
              "      <td>1</td>\n",
              "      <td>1</td>\n",
              "      <td>0</td>\n",
              "      <td>0</td>\n",
              "      <td>1</td>\n",
              "      <td>1</td>\n",
              "      <td>0</td>\n",
              "    </tr>\n",
              "    <tr>\n",
              "      <th>8</th>\n",
              "      <td>1</td>\n",
              "      <td>1</td>\n",
              "      <td>1</td>\n",
              "      <td>1</td>\n",
              "      <td>1</td>\n",
              "      <td>1</td>\n",
              "      <td>1</td>\n",
              "      <td>1</td>\n",
              "      <td>1</td>\n",
              "      <td>1</td>\n",
              "      <td>0</td>\n",
              "    </tr>\n",
              "    <tr>\n",
              "      <th>9</th>\n",
              "      <td>0</td>\n",
              "      <td>0</td>\n",
              "      <td>1</td>\n",
              "      <td>1</td>\n",
              "      <td>1</td>\n",
              "      <td>1</td>\n",
              "      <td>1</td>\n",
              "      <td>1</td>\n",
              "      <td>1</td>\n",
              "      <td>0</td>\n",
              "      <td>0</td>\n",
              "    </tr>\n",
              "  </tbody>\n",
              "</table>\n",
              "</div>\n",
              "      <button class=\"colab-df-convert\" onclick=\"convertToInteractive('df-04c25c7d-8aea-47b9-b06e-98e09ecbf36c')\"\n",
              "              title=\"Convert this dataframe to an interactive table.\"\n",
              "              style=\"display:none;\">\n",
              "        \n",
              "  <svg xmlns=\"http://www.w3.org/2000/svg\" height=\"24px\"viewBox=\"0 0 24 24\"\n",
              "       width=\"24px\">\n",
              "    <path d=\"M0 0h24v24H0V0z\" fill=\"none\"/>\n",
              "    <path d=\"M18.56 5.44l.94 2.06.94-2.06 2.06-.94-2.06-.94-.94-2.06-.94 2.06-2.06.94zm-11 1L8.5 8.5l.94-2.06 2.06-.94-2.06-.94L8.5 2.5l-.94 2.06-2.06.94zm10 10l.94 2.06.94-2.06 2.06-.94-2.06-.94-.94-2.06-.94 2.06-2.06.94z\"/><path d=\"M17.41 7.96l-1.37-1.37c-.4-.4-.92-.59-1.43-.59-.52 0-1.04.2-1.43.59L10.3 9.45l-7.72 7.72c-.78.78-.78 2.05 0 2.83L4 21.41c.39.39.9.59 1.41.59.51 0 1.02-.2 1.41-.59l7.78-7.78 2.81-2.81c.8-.78.8-2.07 0-2.86zM5.41 20L4 18.59l7.72-7.72 1.47 1.35L5.41 20z\"/>\n",
              "  </svg>\n",
              "      </button>\n",
              "      \n",
              "  <style>\n",
              "    .colab-df-container {\n",
              "      display:flex;\n",
              "      flex-wrap:wrap;\n",
              "      gap: 12px;\n",
              "    }\n",
              "\n",
              "    .colab-df-convert {\n",
              "      background-color: #E8F0FE;\n",
              "      border: none;\n",
              "      border-radius: 50%;\n",
              "      cursor: pointer;\n",
              "      display: none;\n",
              "      fill: #1967D2;\n",
              "      height: 32px;\n",
              "      padding: 0 0 0 0;\n",
              "      width: 32px;\n",
              "    }\n",
              "\n",
              "    .colab-df-convert:hover {\n",
              "      background-color: #E2EBFA;\n",
              "      box-shadow: 0px 1px 2px rgba(60, 64, 67, 0.3), 0px 1px 3px 1px rgba(60, 64, 67, 0.15);\n",
              "      fill: #174EA6;\n",
              "    }\n",
              "\n",
              "    [theme=dark] .colab-df-convert {\n",
              "      background-color: #3B4455;\n",
              "      fill: #D2E3FC;\n",
              "    }\n",
              "\n",
              "    [theme=dark] .colab-df-convert:hover {\n",
              "      background-color: #434B5C;\n",
              "      box-shadow: 0px 1px 3px 1px rgba(0, 0, 0, 0.15);\n",
              "      filter: drop-shadow(0px 1px 2px rgba(0, 0, 0, 0.3));\n",
              "      fill: #FFFFFF;\n",
              "    }\n",
              "  </style>\n",
              "\n",
              "      <script>\n",
              "        const buttonEl =\n",
              "          document.querySelector('#df-04c25c7d-8aea-47b9-b06e-98e09ecbf36c button.colab-df-convert');\n",
              "        buttonEl.style.display =\n",
              "          google.colab.kernel.accessAllowed ? 'block' : 'none';\n",
              "\n",
              "        async function convertToInteractive(key) {\n",
              "          const element = document.querySelector('#df-04c25c7d-8aea-47b9-b06e-98e09ecbf36c');\n",
              "          const dataTable =\n",
              "            await google.colab.kernel.invokeFunction('convertToInteractive',\n",
              "                                                     [key], {});\n",
              "          if (!dataTable) return;\n",
              "\n",
              "          const docLinkHtml = 'Like what you see? Visit the ' +\n",
              "            '<a target=\"_blank\" href=https://colab.research.google.com/notebooks/data_table.ipynb>data table notebook</a>'\n",
              "            + ' to learn more about interactive tables.';\n",
              "          element.innerHTML = '';\n",
              "          dataTable['output_type'] = 'display_data';\n",
              "          await google.colab.output.renderOutput(dataTable, element);\n",
              "          const docLink = document.createElement('div');\n",
              "          docLink.innerHTML = docLinkHtml;\n",
              "          element.appendChild(docLink);\n",
              "        }\n",
              "      </script>\n",
              "    </div>\n",
              "  </div>\n",
              "  "
            ]
          },
          "metadata": {},
          "execution_count": 6
        }
      ],
      "source": [
        "import pandas as pd\n",
        "import io\n",
        " \n",
        "arquivo = pd.read_csv(io.BytesIO(uploaded['column_bin_10a_10p.csv']))\n",
        "arquivo"
      ]
    },
    {
      "cell_type": "code",
      "execution_count": 44,
      "metadata": {
        "colab": {
          "base_uri": "https://localhost:8080/"
        },
        "id": "oeeWbm8YidRE",
        "outputId": "02ba9486-c1f6-4d24-af76-f0670146da53"
      },
      "outputs": [
        {
          "output_type": "stream",
          "name": "stdout",
          "text": [
            "Quantidade de Pacientes:  10\n",
            "Atributos:  ['LA <= 39.63', 'PI <= 48.12', 'PI <= 54.92', 'PI <= 63.52', 'PI <= 70.62', 'PI <= 80.61', 'PT <= 8.31', 'PT <= 12.36', 'PT <= 14.55', 'GS <= 37.89', 'P']\n",
            "Quantidade de Atributos:  11\n",
            "[(0, 0, 0, 0, 0, 0, 0, 0, 0, 0, 1), (0, 0, 0, 0, 0, 1, 0, 0, 0, 0, 1), (0, 0, 0, 0, 1, 1, 0, 0, 1, 1, 1), (0, 0, 1, 1, 1, 1, 1, 1, 1, 1, 1), (1, 0, 0, 0, 0, 1, 0, 0, 0, 0, 1), (0, 0, 1, 1, 1, 1, 0, 1, 1, 1, 0), (0, 0, 0, 0, 0, 1, 0, 0, 0, 1, 0), (0, 1, 1, 1, 1, 1, 0, 0, 1, 1, 0), (1, 1, 1, 1, 1, 1, 1, 1, 1, 1, 0), (0, 0, 1, 1, 1, 1, 1, 1, 1, 0, 0)]\n"
          ]
        }
      ],
      "source": [
        "#Quantidade de pacientes do DataFrame\n",
        "qtdPacientes=arquivo.shape[0]\n",
        "print(\"Quantidade de Pacientes: \",qtdPacientes)\n",
        "\n",
        "#Atributos do DataFrame\n",
        "lista_atributos=arquivo.columns.tolist()\n",
        "print(\"Atributos: \",lista_atributos)\n",
        "\n",
        "#Quantidade de atributos do DataFrame\n",
        "print(\"Quantidade de Atributos: \",arquivo.shape[1])\n",
        "\n",
        "#Valoração\n",
        "valoracao= [tuple(x) for x in arquivo.values]\n",
        "print(valoracao)\n",
        "\n",
        "#Quantidade de Regras\n",
        "m=4"
      ]
    },
    {
      "cell_type": "markdown",
      "metadata": {
        "id": "vTZxFgW0jtEv"
      },
      "source": [
        "## **Restrição 1** "
      ]
    },
    {
      "cell_type": "code",
      "execution_count": 48,
      "metadata": {
        "id": "hY1Shpf9jxYV",
        "colab": {
          "base_uri": "https://localhost:8080/"
        },
        "outputId": "8a2559de-c251-4e73-b7a9-558d9afe6efc"
      },
      "outputs": [
        {
          "output_type": "stream",
          "name": "stdout",
          "text": [
            "[[1, -2, -3], [-1, 2, -3], [-1, -2, 3], [4, -5, -6], [-4, 5, -6], [-4, -5, 6], [7, -8, -9], [-7, 8, -9], [-7, -8, 9], [10, -11, -12], [-10, 11, -12], [-10, -11, 12], [13, -14, -15], [-13, 14, -15], [-13, -14, 15], [16, -17, -18], [-16, 17, -18], [-16, -17, 18], [19, -20, -21], [-19, 20, -21], [-19, -20, 21], [22, -23, -24], [-22, 23, -24], [-22, -23, 24], [25, -26, -27], [-25, 26, -27], [-25, -26, 27], [28, -29, -30], [-28, 29, -30], [-28, -29, 30], [31, -32, -33], [-31, 32, -33], [-31, -32, 33], [34, -35, -36], [-34, 35, -36], [-34, -35, 36], [37, -38, -39], [-37, 38, -39], [-37, -38, 39], [40, -41, -42], [-40, 41, -42], [-40, -41, 42], [43, -44, -45], [-43, 44, -45], [-43, -44, 45], [46, -47, -48], [-46, 47, -48], [-46, -47, 48], [49, -50, -51], [-49, 50, -51], [-49, -50, 51], [52, -53, -54], [-52, 53, -54], [-52, -53, 54], [55, -56, -57], [-55, 56, -57], [-55, -56, 57], [58, -59, -60], [-58, 59, -60], [-58, -59, 60], [61, -62, -63], [-61, 62, -63], [-61, -62, 63], [64, -65, -66], [-64, 65, -66], [-64, -65, 66], [67, -68, -69], [-67, 68, -69], [-67, -68, 69], [70, -71, -72], [-70, 71, -72], [-70, -71, 72], [73, -74, -75], [-73, 74, -75], [-73, -74, 75], [76, -77, -78], [-76, 77, -78], [-76, -77, 78], [79, -80, -81], [-79, 80, -81], [-79, -80, 81], [82, -83, -84], [-82, 83, -84], [-82, -83, 84], [85, -86, -87], [-85, 86, -87], [-85, -86, 87], [88, -89, -90], [-88, 89, -90], [-88, -89, 90], [91, -92, -93], [-91, 92, -93], [-91, -92, 93], [94, -95, -96], [-94, 95, -96], [-94, -95, 96], [97, -98, -99], [-97, 98, -99], [-97, -98, 99], [100, -101, -102], [-100, 101, -102], [-100, -101, 102], [103, -104, -105], [-103, 104, -105], [-103, -104, 105], [106, -107, -108], [-106, 107, -108], [-106, -107, 108], [109, -110, -111], [-109, 110, -111], [-109, -110, 111], [112, -113, -114], [-112, 113, -114], [-112, -113, 114], [115, -116, -117], [-115, 116, -117], [-115, -116, 117], [118, -119, -120], [-118, 119, -120], [-118, -119, 120]]\n"
          ]
        }
      ],
      "source": [
        "def restricao1(m, lista_atributos):\n",
        "\n",
        "    lista = []\n",
        "    lista2 = []\n",
        "    formula = []\n",
        "    regra=0\n",
        "    while True:\n",
        "      if regra == m:\n",
        "        break;\n",
        "      for atributo in lista_atributos:\n",
        "              if atributo != 'P':\n",
        "                  lista=[]\n",
        "                  lista.append(Atom.id(str(atributo) + '-' + str(regra + 1) + '-' + 'p'))\n",
        "                  lista.append(-Atom.id(str(atributo) + '-' + str(regra + 1) + '-' + 'n'))\n",
        "                  lista.append(-Atom.id(str(atributo) + '-' + str(regra + 1) + '-' + 's'))\n",
        "                  lista2.append(lista)\n",
        "\n",
        "                  lista=[]\n",
        "                  lista.append(-Atom.id(str(atributo) + '-' + str(regra + 1) + '-' + 'p'))\n",
        "                  lista.append(Atom.id(str(atributo) + '-' + str(regra + 1) + '-' + 'n'))\n",
        "                  lista.append(-Atom.id(str(atributo) + '-' + str(regra + 1) + '-' + 's'))\n",
        "                  lista2.append(lista)\n",
        "\n",
        "                  lista=[]\n",
        "                  lista.append(-Atom.id(str(atributo) + '-' + str(regra + 1) + '-' + 'p'))\n",
        "                  lista.append(-Atom.id(str(atributo) + '-' + str(regra + 1) + '-' + 'n'))\n",
        "                  lista.append(Atom.id(str(atributo) + '-' + str(regra + 1) + '-' + 's'))\n",
        "                  lista2.append(lista)\n",
        "      regra+=1\n",
        "\n",
        "    return lista2\n",
        "\n",
        "r1= restricao1(m, lista_atributos)\n",
        "cnf.extend(r1)\n",
        "print(r1)"
      ]
    },
    {
      "cell_type": "markdown",
      "metadata": {
        "id": "VcU5GqeHk0zz"
      },
      "source": [
        "## **Restrição 2** "
      ]
    },
    {
      "cell_type": "code",
      "execution_count": 49,
      "metadata": {
        "id": "xfWg94oEk35d",
        "colab": {
          "base_uri": "https://localhost:8080/"
        },
        "outputId": "b6e39cc5-d789-467f-fc57-3fd040f68ca8"
      },
      "outputs": [
        {
          "output_type": "stream",
          "name": "stdout",
          "text": [
            "[[-121, -121, -121, -121, -121, -121, -121, -121, -121, -121], [-122, -122, -122, -122, -122, -122, -122, -122, -122, -122], [-123, -123, -123, -123, -123, -123, -123, -123, -123, -123], [-124, -124, -124, -124, -124, -124, -124, -124, -124, -124]]\n"
          ]
        }
      ],
      "source": [
        "def restricao2(m, lista_atributos):\n",
        "    lista1 = []\n",
        "    regra=0\n",
        "    while regra < m:\n",
        "        lista2 = []\n",
        "        for atributo in range(0, len(lista_atributos) - 1):\n",
        "          if atributo !='P':\n",
        "            lista2.append(-Atom.id(str(lista_atributos) + '-' + str(regra + 1) + '-' + 's'))\n",
        "        lista1.append(lista2)\n",
        "        regra+=1;\n",
        "    return(lista1)\n",
        "\n",
        "r2= restricao2(m, lista_atributos)\n",
        "cnf.extend(r2)\n",
        "print(r2)"
      ]
    },
    {
      "cell_type": "markdown",
      "metadata": {
        "id": "aQ7zYVyrlycR"
      },
      "source": [
        "## **Restrição 3** "
      ]
    },
    {
      "cell_type": "code",
      "execution_count": 59,
      "metadata": {
        "id": "LxO5ukKRl2p5",
        "colab": {
          "base_uri": "https://localhost:8080/"
        },
        "outputId": "de3de8c4-c5e6-400b-d1ae-ca0b7b3aaf7d"
      },
      "outputs": [
        {
          "output_type": "stream",
          "name": "stdout",
          "text": [
            "[[-125, -125, -121, -121, -121, -121, -125, -121, -121, -121], [-126, -126, -122, -122, -122, -122, -126, -122, -122, -122], [-127, -127, -123, -123, -123, -123, -127, -123, -123, -123], [-128, -128, -124, -124, -124, -124, -128, -124, -124, -124]]\n"
          ]
        }
      ],
      "source": [
        "def restricao3(m, lista_atributos, qtdPacientes, valoracao):\n",
        "    lista2 = []\n",
        "    j=0\n",
        "    regra=0\n",
        "\n",
        "    while True:\n",
        "      if j == qtdPacientes:\n",
        "          break\n",
        "      if valoracao[j][-1] == 0: \n",
        "          while True:\n",
        "            if regra == m:\n",
        "              break;\n",
        "            lista = []\n",
        "            for a in lista_atributos:\n",
        "                  if a != 'P':\n",
        "                    if valoracao[j][lista_atributos.index(str(a))] == 1: \n",
        "                        lista.append(-Atom.id(str(lista_atributos) + '-' + str(regra + 1) + '-' + 'n')) \n",
        "                    elif valoracao[j][lista_atributos.index(str(a))] == 0:\n",
        "                        lista.append(-Atom.id(str(lista_atributos) + '-' + str(regra + 1) + '-' + 'p'))\n",
        "            regra+=1\n",
        "            lista2.append(lista)\n",
        "      j+=1\n",
        "    return lista2\n",
        "\n",
        "r3= restricao3(m, lista_atributos, qtdPacientes, valoracao)\n",
        "cnf.extend(r3)\n",
        "print(r3)"
      ]
    },
    {
      "cell_type": "markdown",
      "metadata": {
        "id": "dMS5B48E0GT5"
      },
      "source": [
        "## **Restrição 4** "
      ]
    },
    {
      "cell_type": "code",
      "execution_count": 60,
      "metadata": {
        "id": "EQVarqTW8i65",
        "colab": {
          "base_uri": "https://localhost:8080/"
        },
        "outputId": "56f62ca5-b5d9-4025-b408-ae2a5c014332"
      },
      "outputs": [
        {
          "output_type": "stream",
          "name": "stdout",
          "text": [
            "[[-1, -129], [-4, -129], [-7, -129], [-10, -129], [-13, -129], [-16, -129], [-19, -129], [-22, -129], [-25, -129], [-28, -129], [-31, -130], [-34, -130], [-37, -130], [-40, -130], [-43, -130], [-46, -130], [-49, -130], [-52, -130], [-55, -130], [-58, -130], [-61, -131], [-64, -131], [-67, -131], [-70, -131], [-73, -131], [-76, -131], [-79, -131], [-82, -131], [-85, -131], [-88, -131], [-91, -132], [-94, -132], [-97, -132], [-100, -132], [-103, -132], [-106, -132], [-109, -132], [-112, -132], [-115, -132], [-118, -132], [-1, -133], [-4, -133], [-7, -133], [-10, -133], [-13, -133], [-17, -133], [-19, -133], [-22, -133], [-25, -133], [-28, -133], [-31, -134], [-34, -134], [-37, -134], [-40, -134], [-43, -134], [-47, -134], [-49, -134], [-52, -134], [-55, -134], [-58, -134], [-61, -135], [-64, -135], [-67, -135], [-70, -135], [-73, -135], [-77, -135], [-79, -135], [-82, -135], [-85, -135], [-88, -135], [-91, -136], [-94, -136], [-97, -136], [-100, -136], [-103, -136], [-107, -136], [-109, -136], [-112, -136], [-115, -136], [-118, -136], [-1, -137], [-4, -137], [-7, -137], [-10, -137], [-14, -137], [-17, -137], [-19, -137], [-22, -137], [-26, -137], [-29, -137], [-31, -138], [-34, -138], [-37, -138], [-40, -138], [-44, -138], [-47, -138], [-49, -138], [-52, -138], [-56, -138], [-59, -138], [-61, -139], [-64, -139], [-67, -139], [-70, -139], [-74, -139], [-77, -139], [-79, -139], [-82, -139], [-86, -139], [-89, -139], [-91, -140], [-94, -140], [-97, -140], [-100, -140], [-104, -140], [-107, -140], [-109, -140], [-112, -140], [-116, -140], [-119, -140], [-1, -141], [-4, -141], [-8, -141], [-11, -141], [-14, -141], [-17, -141], [-20, -141], [-23, -141], [-26, -141], [-29, -141], [-31, -142], [-34, -142], [-38, -142], [-41, -142], [-44, -142], [-47, -142], [-50, -142], [-53, -142], [-56, -142], [-59, -142], [-61, -143], [-64, -143], [-68, -143], [-71, -143], [-74, -143], [-77, -143], [-80, -143], [-83, -143], [-86, -143], [-89, -143], [-91, -144], [-94, -144], [-98, -144], [-101, -144], [-104, -144], [-107, -144], [-110, -144], [-113, -144], [-116, -144], [-119, -144], [-2, -145], [-4, -145], [-7, -145], [-10, -145], [-13, -145], [-17, -145], [-19, -145], [-22, -145], [-25, -145], [-28, -145], [-32, -146], [-34, -146], [-37, -146], [-40, -146], [-43, -146], [-47, -146], [-49, -146], [-52, -146], [-55, -146], [-58, -146], [-62, -147], [-64, -147], [-67, -147], [-70, -147], [-73, -147], [-77, -147], [-79, -147], [-82, -147], [-85, -147], [-88, -147], [-92, -148], [-94, -148], [-97, -148], [-100, -148], [-103, -148], [-107, -148], [-109, -148], [-112, -148], [-115, -148], [-118, -148]]\n"
          ]
        }
      ],
      "source": [
        "def restricao4(m, qtdPacientes, lista_atributos, valoracao):\n",
        "    lista = []\n",
        "    lista2 = []\n",
        "\n",
        "    for j in range(qtdPacientes):\n",
        "        if valoracao[j][-1] == 1:\n",
        "            for regra in range(m):     \n",
        "                for atributo in lista_atributos:\n",
        "                    lista = []\n",
        "                    if atributo != 'P':\n",
        "                        if valoracao[j][lista_atributos.index(str(atributo))] == 1:\n",
        "                            lista.append(-Atom.id(str(atributo) + '-' + str(regra + 1) + '-' + 'n'))\n",
        "                            lista.append(-Atom.id('C-' + str(regra+1) + '-'+str(j+1)))\n",
        "                        else:\n",
        "                            lista.append(-Atom.id(str(atributo) + '-' + str(regra + 1) + '-' + 'p'))\n",
        "                            lista.append(-Atom.id('C-' + str(regra+1) + '-'+str(j+1)))\n",
        "                        lista2.append(lista)\n",
        "\n",
        "    return lista2\n",
        "\n",
        "r4=restricao4(m ,qtdPacientes, lista_atributos, valoracao)\n",
        "cnf.extend(r4)\n",
        "print(r4)"
      ]
    },
    {
      "cell_type": "markdown",
      "metadata": {
        "id": "U5piUIq69cxa"
      },
      "source": [
        "## **Restrição 5** "
      ]
    },
    {
      "cell_type": "code",
      "execution_count": 62,
      "metadata": {
        "id": "-MMs6cK09ems",
        "colab": {
          "base_uri": "https://localhost:8080/"
        },
        "outputId": "bb445ad8-63e4-48c4-af64-debf9750159c"
      },
      "outputs": [
        {
          "output_type": "stream",
          "name": "stdout",
          "text": [
            "[[129, 130, 131, 132], [133, 134, 135, 136], [137, 138, 139, 140], [141, 142, 143, 144], [145, 146, 147, 148]]\n"
          ]
        }
      ],
      "source": [
        "def restricao5(m, qtdPacientes, valoracao, lista_atributos):\n",
        "    lista2 = []\n",
        "    for j in range(qtdPacientes):\n",
        "        lista = []\n",
        "        if valoracao[j][-1] == 1:\n",
        "          for regra in range(m):\n",
        "              lista.append(Atom.id('C-' + str(regra+1) + '-'+str(j+1)))\n",
        "          lista2.append(lista)\n",
        "    return lista2\n",
        "r5= restricao5(m, qtdPacientes, valoracao, lista_atributos)\n",
        "cnf.extend(r5)\n",
        "print(r5)"
      ]
    },
    {
      "cell_type": "markdown",
      "metadata": {
        "id": "PKGfe3XsKog1"
      },
      "source": [
        "## **Teste** "
      ]
    },
    {
      "cell_type": "code",
      "execution_count": 58,
      "metadata": {
        "colab": {
          "base_uri": "https://localhost:8080/"
        },
        "id": "TuPZ2BZtKsuK",
        "outputId": "c2af3d4a-e717-4c7f-d2a7-18b0b616c0ed"
      },
      "outputs": [
        {
          "output_type": "stream",
          "name": "stdout",
          "text": [
            "[1, 2, 3, 4, 5, 6, 7, 8, 9, 10, 11, 12, 13, 14, 15, 16, 17, 18, 19, 20, 21, 22, 23, 24, 25, 26, 27, 28, 29, 30, 31, 32, 33, 34, 35, 36, 37, 38, 39, 40, 41, 42, 43, 44, 45, 46, 47, 48, 49, 50, 51, 52, 53, 54, 55, 56, 57, 58, 59, 60, 61, 62, 63, 64, 65, 66, 67, 68, 69, 70, 71, 72, 73, 74, 75, 76, 77, 78, 79, 80, 81, 82, 83, 84, 85, 86, 87, 88, 89, 90, -91, -92, 93, -94, 95, -96, -97, -98, 99, -100, -101, 102, -103, -104, 105, -106, -107, 108, -109, -110, 111, -112, -113, 114, -115, -116, 117, -118, -119, 120, -121, -122, -123, -124, 125, 126, 127, 128, -129, -130, -131, 132, -133, -134, -135, 136, -137, -138, -139, 140, -141, -142, -143, 144, -145, -146, -147, 148]\n",
            "\n",
            "Atom.id: 1 - LA <= 39.63-1-p, \n",
            "Atom.id: 2 - LA <= 39.63-1-n, \n",
            "Atom.id: 3 - LA <= 39.63-1-s, \n",
            "Atom.id: 4 - PI <= 48.12-1-p, \n",
            "Atom.id: 5 - PI <= 48.12-1-n, \n",
            "Atom.id: 6 - PI <= 48.12-1-s, \n",
            "Atom.id: 7 - PI <= 54.92-1-p, \n",
            "Atom.id: 8 - PI <= 54.92-1-n, \n",
            "Atom.id: 9 - PI <= 54.92-1-s, \n",
            "Atom.id: 10 - PI <= 63.52-1-p, \n",
            "Atom.id: 11 - PI <= 63.52-1-n, \n",
            "Atom.id: 12 - PI <= 63.52-1-s, \n",
            "Atom.id: 13 - PI <= 70.62-1-p, \n",
            "Atom.id: 14 - PI <= 70.62-1-n, \n",
            "Atom.id: 15 - PI <= 70.62-1-s, \n",
            "Atom.id: 16 - PI <= 80.61-1-p, \n",
            "Atom.id: 17 - PI <= 80.61-1-n, \n",
            "Atom.id: 18 - PI <= 80.61-1-s, \n",
            "Atom.id: 19 - PT <= 8.31-1-p, \n",
            "Atom.id: 20 - PT <= 8.31-1-n, \n",
            "Atom.id: 21 - PT <= 8.31-1-s, \n",
            "Atom.id: 22 - PT <= 12.36-1-p, \n",
            "Atom.id: 23 - PT <= 12.36-1-n, \n",
            "Atom.id: 24 - PT <= 12.36-1-s, \n",
            "Atom.id: 25 - PT <= 14.55-1-p, \n",
            "Atom.id: 26 - PT <= 14.55-1-n, \n",
            "Atom.id: 27 - PT <= 14.55-1-s, \n",
            "Atom.id: 28 - GS <= 37.89-1-p, \n",
            "Atom.id: 29 - GS <= 37.89-1-n, \n",
            "Atom.id: 30 - GS <= 37.89-1-s, \n",
            "Atom.id: 31 - LA <= 39.63-2-p, \n",
            "Atom.id: 32 - LA <= 39.63-2-n, \n",
            "Atom.id: 33 - LA <= 39.63-2-s, \n",
            "Atom.id: 34 - PI <= 48.12-2-p, \n",
            "Atom.id: 35 - PI <= 48.12-2-n, \n",
            "Atom.id: 36 - PI <= 48.12-2-s, \n",
            "Atom.id: 37 - PI <= 54.92-2-p, \n",
            "Atom.id: 38 - PI <= 54.92-2-n, \n",
            "Atom.id: 39 - PI <= 54.92-2-s, \n",
            "Atom.id: 40 - PI <= 63.52-2-p, \n",
            "Atom.id: 41 - PI <= 63.52-2-n, \n",
            "Atom.id: 42 - PI <= 63.52-2-s, \n",
            "Atom.id: 43 - PI <= 70.62-2-p, \n",
            "Atom.id: 44 - PI <= 70.62-2-n, \n",
            "Atom.id: 45 - PI <= 70.62-2-s, \n",
            "Atom.id: 46 - PI <= 80.61-2-p, \n",
            "Atom.id: 47 - PI <= 80.61-2-n, \n",
            "Atom.id: 48 - PI <= 80.61-2-s, \n",
            "Atom.id: 49 - PT <= 8.31-2-p, \n",
            "Atom.id: 50 - PT <= 8.31-2-n, \n",
            "Atom.id: 51 - PT <= 8.31-2-s, \n",
            "Atom.id: 52 - PT <= 12.36-2-p, \n",
            "Atom.id: 53 - PT <= 12.36-2-n, \n",
            "Atom.id: 54 - PT <= 12.36-2-s, \n",
            "Atom.id: 55 - PT <= 14.55-2-p, \n",
            "Atom.id: 56 - PT <= 14.55-2-n, \n",
            "Atom.id: 57 - PT <= 14.55-2-s, \n",
            "Atom.id: 58 - GS <= 37.89-2-p, \n",
            "Atom.id: 59 - GS <= 37.89-2-n, \n",
            "Atom.id: 60 - GS <= 37.89-2-s, \n",
            "Atom.id: 61 - LA <= 39.63-3-p, \n",
            "Atom.id: 62 - LA <= 39.63-3-n, \n",
            "Atom.id: 63 - LA <= 39.63-3-s, \n",
            "Atom.id: 64 - PI <= 48.12-3-p, \n",
            "Atom.id: 65 - PI <= 48.12-3-n, \n",
            "Atom.id: 66 - PI <= 48.12-3-s, \n",
            "Atom.id: 67 - PI <= 54.92-3-p, \n",
            "Atom.id: 68 - PI <= 54.92-3-n, \n",
            "Atom.id: 69 - PI <= 54.92-3-s, \n",
            "Atom.id: 70 - PI <= 63.52-3-p, \n",
            "Atom.id: 71 - PI <= 63.52-3-n, \n",
            "Atom.id: 72 - PI <= 63.52-3-s, \n",
            "Atom.id: 73 - PI <= 70.62-3-p, \n",
            "Atom.id: 74 - PI <= 70.62-3-n, \n",
            "Atom.id: 75 - PI <= 70.62-3-s, \n",
            "Atom.id: 76 - PI <= 80.61-3-p, \n",
            "Atom.id: 77 - PI <= 80.61-3-n, \n",
            "Atom.id: 78 - PI <= 80.61-3-s, \n",
            "Atom.id: 79 - PT <= 8.31-3-p, \n",
            "Atom.id: 80 - PT <= 8.31-3-n, \n",
            "Atom.id: 81 - PT <= 8.31-3-s, \n",
            "Atom.id: 82 - PT <= 12.36-3-p, \n",
            "Atom.id: 83 - PT <= 12.36-3-n, \n",
            "Atom.id: 84 - PT <= 12.36-3-s, \n",
            "Atom.id: 85 - PT <= 14.55-3-p, \n",
            "Atom.id: 86 - PT <= 14.55-3-n, \n",
            "Atom.id: 87 - PT <= 14.55-3-s, \n",
            "Atom.id: 88 - GS <= 37.89-3-p, \n",
            "Atom.id: 89 - GS <= 37.89-3-n, \n",
            "Atom.id: 90 - GS <= 37.89-3-s, \n",
            "Atom.id: -91 - Not( LA <= 39.63-4-p), \n",
            "Atom.id: -92 - Not( LA <= 39.63-4-n), \n",
            "Atom.id: 93 - LA <= 39.63-4-s, \n",
            "Atom.id: -94 - Not( PI <= 48.12-4-p), \n",
            "Atom.id: 95 - PI <= 48.12-4-n, \n",
            "Atom.id: -96 - Not( PI <= 48.12-4-s), \n",
            "Atom.id: -97 - Not( PI <= 54.92-4-p), \n",
            "Atom.id: -98 - Not( PI <= 54.92-4-n), \n",
            "Atom.id: 99 - PI <= 54.92-4-s, \n",
            "Atom.id: -100 - Not( PI <= 63.52-4-p), \n",
            "Atom.id: -101 - Not( PI <= 63.52-4-n), \n",
            "Atom.id: 102 - PI <= 63.52-4-s, \n",
            "Atom.id: -103 - Not( PI <= 70.62-4-p), \n",
            "Atom.id: -104 - Not( PI <= 70.62-4-n), \n",
            "Atom.id: 105 - PI <= 70.62-4-s, \n",
            "Atom.id: -106 - Not( PI <= 80.61-4-p), \n",
            "Atom.id: -107 - Not( PI <= 80.61-4-n), \n",
            "Atom.id: 108 - PI <= 80.61-4-s, \n",
            "Atom.id: -109 - Not( PT <= 8.31-4-p), \n",
            "Atom.id: -110 - Not( PT <= 8.31-4-n), \n",
            "Atom.id: 111 - PT <= 8.31-4-s, \n",
            "Atom.id: -112 - Not( PT <= 12.36-4-p), \n",
            "Atom.id: -113 - Not( PT <= 12.36-4-n), \n",
            "Atom.id: 114 - PT <= 12.36-4-s, \n",
            "Atom.id: -115 - Not( PT <= 14.55-4-p), \n",
            "Atom.id: -116 - Not( PT <= 14.55-4-n), \n",
            "Atom.id: 117 - PT <= 14.55-4-s, \n",
            "Atom.id: -118 - Not( GS <= 37.89-4-p), \n",
            "Atom.id: -119 - Not( GS <= 37.89-4-n), \n",
            "Atom.id: 120 - GS <= 37.89-4-s, \n",
            "Atom.id: -121 - Not( ['LA <= 39.63', 'PI <= 48.12', 'PI <= 54.92', 'PI <= 63.52', 'PI <= 70.62', 'PI <= 80.61', 'PT <= 8.31', 'PT <= 12.36', 'PT <= 14.55', 'GS <= 37.89', 'P']-1-n), \n",
            "Atom.id: -122 - Not( ['LA <= 39.63', 'PI <= 48.12', 'PI <= 54.92', 'PI <= 63.52', 'PI <= 70.62', 'PI <= 80.61', 'PT <= 8.31', 'PT <= 12.36', 'PT <= 14.55', 'GS <= 37.89', 'P']-2-n), \n",
            "Atom.id: -123 - Not( ['LA <= 39.63', 'PI <= 48.12', 'PI <= 54.92', 'PI <= 63.52', 'PI <= 70.62', 'PI <= 80.61', 'PT <= 8.31', 'PT <= 12.36', 'PT <= 14.55', 'GS <= 37.89', 'P']-3-n), \n",
            "Atom.id: -124 - Not( ['LA <= 39.63', 'PI <= 48.12', 'PI <= 54.92', 'PI <= 63.52', 'PI <= 70.62', 'PI <= 80.61', 'PT <= 8.31', 'PT <= 12.36', 'PT <= 14.55', 'GS <= 37.89', 'P']-4-n), \n",
            "Atom.id: 125 - ['LA <= 39.63', 'PI <= 48.12', 'PI <= 54.92', 'PI <= 63.52', 'PI <= 70.62', 'PI <= 80.61', 'PT <= 8.31', 'PT <= 12.36', 'PT <= 14.55', 'GS <= 37.89', 'P']-1-p, \n",
            "Atom.id: 126 - ['LA <= 39.63', 'PI <= 48.12', 'PI <= 54.92', 'PI <= 63.52', 'PI <= 70.62', 'PI <= 80.61', 'PT <= 8.31', 'PT <= 12.36', 'PT <= 14.55', 'GS <= 37.89', 'P']-2-p, \n",
            "Atom.id: 127 - ['LA <= 39.63', 'PI <= 48.12', 'PI <= 54.92', 'PI <= 63.52', 'PI <= 70.62', 'PI <= 80.61', 'PT <= 8.31', 'PT <= 12.36', 'PT <= 14.55', 'GS <= 37.89', 'P']-3-p, \n",
            "Atom.id: 128 - ['LA <= 39.63', 'PI <= 48.12', 'PI <= 54.92', 'PI <= 63.52', 'PI <= 70.62', 'PI <= 80.61', 'PT <= 8.31', 'PT <= 12.36', 'PT <= 14.55', 'GS <= 37.89', 'P']-4-p, \n",
            "Atom.id: -129 - Not( C-1-1), \n",
            "Atom.id: -130 - Not( C-2-1), \n",
            "Atom.id: -131 - Not( C-3-1), \n",
            "Atom.id: 132 - C-4-1, \n",
            "Atom.id: -133 - Not( C-1-2), \n",
            "Atom.id: -134 - Not( C-2-2), \n",
            "Atom.id: -135 - Not( C-3-2), \n",
            "Atom.id: 136 - C-4-2, \n",
            "Atom.id: -137 - Not( C-1-3), \n",
            "Atom.id: -138 - Not( C-2-3), \n",
            "Atom.id: -139 - Not( C-3-3), \n",
            "Atom.id: 140 - C-4-3, \n",
            "Atom.id: -141 - Not( C-1-4), \n",
            "Atom.id: -142 - Not( C-2-4), \n",
            "Atom.id: -143 - Not( C-3-4), \n",
            "Atom.id: 144 - C-4-4, \n",
            "Atom.id: -145 - Not( C-1-5), \n",
            "Atom.id: -146 - Not( C-2-5), \n",
            "Atom.id: -147 - Not( C-3-5), \n",
            "Atom.id: 148 - C-4-5, "
          ]
        }
      ],
      "source": [
        "Formula = Cadical()\n",
        "Formula.append_formula(cnf.clauses)\n",
        "\n",
        "if Formula.solve():\n",
        "    lista = Formula.get_model()\n",
        "    print(lista)\n",
        "    for atomID in lista:\n",
        "      if atomID < 0:\n",
        "        print(\"\\nAtom.id:\", atomID, '-', 'Not (', Atom.obj(atomID*-1), end = '), ')\n",
        "      else:\n",
        "        print(\"\\nAtom.id:\", atomID, '-', Atom.obj(atomID),  end = ', ')\n",
        "else:\n",
        "    print(\"Não foi achada uma valoração\")\n"
      ]
    }
  ],
  "metadata": {
    "colab": {
      "collapsed_sections": [],
      "name": "Projeto2Logica.ipynb",
      "provenance": []
    },
    "kernelspec": {
      "display_name": "Python 3",
      "name": "python3"
    },
    "language_info": {
      "name": "python"
    }
  },
  "nbformat": 4,
  "nbformat_minor": 0
}